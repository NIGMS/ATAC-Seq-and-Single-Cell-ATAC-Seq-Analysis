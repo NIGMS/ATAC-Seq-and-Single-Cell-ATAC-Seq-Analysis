{
 "cells": [
  {
   "cell_type": "markdown",
   "id": "f7ded04b-10a3-4eee-b7a2-9e1f8528c239",
   "metadata": {},
   "source": [
    "# ATAC-seq Module 1: Preprocessing and Quality Control\n",
    "\n",
    "<img src=\"../images/Tutorial1/LessonImages/ATACseqWorkflowLesson1.jpg\" alt=\"Drawing\" style=\"width: 1000px;\"/>\n",
    "\n",
    "## Overview\n",
    "ATAC-seq generates genome-wide accessibility profiles. Tn5 transposase integrates DNA sequencing adapters into accessible chromatin, creating small fragments protected by nucleosomes and transcription factors. Analyzing this data we can uncover differential accessibility and identify TF footprints.\n",
    "\n",
    "<img src=\"../images/Tutorial1/LessonImages/MethodAnimation.gif\" alt=\"Drawing\" style=\"width: 500px;\"/>\n",
    "\n",
    "This short tutorial demonstrates the initial processing steps for ATAC-seq analysis. In this module we focus on generating quality reports of the fastq files, adapter trimming, mapping, and removal of PCR duplicates.\n",
    "\n",
    "In this tutorial we will process a randomly chosen published dataset. This is available from GEO: GSE67382\n",
    "Bao X, Rubin AJ, Qu K, Zhang J et al. A novel ATAC-seq approach reveals lineage-specific reinforcement of the open chromatin landscape via cooperation between BAF and p63. Genome Biol 2015 Dec 18;16:284. PMID: [26683334](https://pubmed.ncbi.nlm.nih.gov/26683334/)\n",
    "\n",
    "This dataset is paired-end 50 bp sequencing. We will analyze two samples representing NHEK cells with BAF depletion compared to a control. Note that to allow faster processing we have limited the reads to that of chromosome 4. "
   ]
  },
  {
   "cell_type": "markdown",
   "id": "54c04ec1",
   "metadata": {},
   "source": [
    "## Learning Objectives\n",
    "\n",
    "- **Setting up the computational environment:** Learners will learn how to install necessary bioinformatics tools (FastQC, MultiQC, Trimmomatic, Bowtie2, Samtools, Picard).\n",
    "\n",
    "- **Understanding ATAC-seq data formats:** Learners will become familiar with FASTQ files and their structure.\n",
    "\n",
    "- **Performing quality control (QC):** Learners will perform quality control on raw reads using FastQC and MultiQC to assess sequencing quality.  They'll interpret the QC reports to identify potential issues like adapter contamination and base quality.\n",
    "\n",
    "- **Trimming reads:** Learners will learn to use Trimmomatic to trim adapter sequences and low-quality bases from the reads, improving the quality of downstream analysis.  They will understand why trimming is crucial for ATAC-seq.\n",
    "\n",
    "- **Mapping reads to a reference genome:** Learners will map reads to a reference genome using Bowtie2, understanding the importance of a reference genome and the process of generating Bowtie2 indexes (although the indexes are pre-made in this example).  They'll also convert SAM files to BAM files using samtools.\n",
    "\n",
    "- **Removing PCR duplicates:** Learners will use Picard to remove PCR duplicates from the mapped reads, understanding the impact of PCR duplicates on ATAC-seq analysis.\n",
    "\n",
    "- **Interpreting results:** Learners will interpret the results of each step, assessing the quality of the processed data and understanding the impact of each preprocessing step.\n",
    "\n",
    "<div class=\"alert alert-block alert-success\">\n",
    "    <i class=\"fa fa-hand-paper-o\" aria-hidden=\"true\"></i>\n",
    "    <b>Tip: </b>  If you're having trouble with any part of this tutorial, feel free to leverage AWS Bedrock (Amazon's advanced generative AI tool) at the bottom of this module.\n",
    "</div>  "
   ]
  },
  {
   "cell_type": "markdown",
   "id": "cd4a69f8",
   "metadata": {},
   "source": [
    "## Prerequisites\n",
    "+ **Software:**\n",
    "\n",
    "    * **Jupyter Notebook:**  Needed to run the notebook itself.\n",
    "    * **Mamba** Used for package management.  The notebook uses mamba, a faster alternative to conda.\n",
    "    * **Bioconda Channel:**  The notebook installs several packages from the Bioconda channel, a channel specifically for bioinformatics tools.\n",
    "    * **Specific Python Packages:**\n",
    "        * `jupyterquiz`: For interactive quizzes within the notebook.\n",
    "        * `jupytercards`: For flashcards.\n",
    "        * `pandas`: For data manipulation and analysis.\n",
    "        * `IPython`: For enhanced interactive computing.\n",
    "    * **Bioinformatics Tools:**\n",
    "        * `fastqc`: For assessing the quality of raw sequencing reads.\n",
    "        * `multiqc`: For aggregating and summarizing quality control reports from multiple tools.\n",
    "        * `trimmomatic`: For trimming adapters and low-quality bases from sequencing reads.\n",
    "        * `bowtie2`: For aligning reads to a reference genome.\n",
    "        * `samtools`: For manipulating and converting sequence alignment/map (SAM/BAM) files.\n",
    "        * `picard`: For various bioinformatics tasks, particularly duplicate marking and removal in this case.\n",
    "\n",
    "+ **APIs:**\n",
    "\n",
    "    * **Amazon S3 API:**  The notebook uses `aws s3` to interact with an Amazon S3 bucket to copy example data files (`aws s3 cp`). This requires that the appropriate AWS services are enabled in your AWS account."
   ]
  },
  {
   "cell_type": "markdown",
   "id": "07f22d12",
   "metadata": {},
   "source": [
    "## Get Started\n",
    "### Required Files\n",
    "In this stage of the module you will use the fastq files that have been prepared. In Step 1 we will copy these files over to your instance. You can also use this module on your own data or any published ATAC-seq dataset. \n",
    "\n",
    "<div class=\"alert-info\" style=\"font-size:200%\">\n",
    "STEP 1: Set Up Environment\n",
    "</div>\n",
    "\n",
    "In this step we will use mamba to install the following packages:\n",
    "\n",
    "Quality Reporting:\n",
    "[fastqc](https://anaconda.org/bioconda/fastqc), [multiqc](https://anaconda.org/bioconda/multiqc)\n",
    "\n",
    "Read Trimming: \n",
    "[trimmomatic](https://anaconda.org/bioconda/trimmomatic)\n",
    "\n",
    "Mapping:\n",
    "[bowtie2](https://anaconda.org/bioconda/bowtie2)\n",
    "\n",
    "Deduplication:\n",
    "[samtools](https://anaconda.org/bioconda/samtools), [picard](https://anaconda.org/bioconda/picard)"
   ]
  },
  {
   "cell_type": "code",
   "execution_count": null,
   "id": "f2074873-7df9-46e7-9922-f1b1bb26f7c4",
   "metadata": {},
   "outputs": [],
   "source": [
    "numthreads=! lscpu | grep '^CPU(s)'| awk '{print $2-1}'\n",
    "numthreadsint = int(numthreads[0])\n",
    "! mamba install -c bioconda fastqc bowtie2 picard multiqc samtools trimmomatic -y\n",
    "! pip install jupyterquiz jupytercards"
   ]
  },
  {
   "cell_type": "code",
   "execution_count": null,
   "id": "f4cbafe2",
   "metadata": {},
   "outputs": [],
   "source": [
    "from jupyterquiz import display_quiz\n",
    "from IPython.display import IFrame\n",
    "from IPython.display import display\n",
    "from jupytercards import display_flashcards\n",
    "import pandas as pd"
   ]
  },
  {
   "cell_type": "markdown",
   "id": "54f8e28a-543c-4eb9-8c6a-6107ce0613a8",
   "metadata": {},
   "source": [
    "## Set Up File System\n",
    "Now lets create some folders to stay organized and copy over our prepared fastq files. We're going to create a directory called \"Tutorial1\" which we'll use for this module. We'll then create sub-folders for our input files and for the files that we'll be creating during this module. We'll also copy over the fasta file for chromosome 4 as well as some bowtie2 index files (don't worry we'll teach you how to create these index files)."
   ]
  },
  {
   "cell_type": "code",
   "execution_count": null,
   "id": "8a730ba8-82e0-4ab2-a0ef-118a6910cc92",
   "metadata": {},
   "outputs": [],
   "source": [
    "# These commands create our directory structure.\n",
    "! mkdir -p Tutorial1/InputFiles\n",
    "! mkdir -p Tutorial1/QC\n",
    "! mkdir -p Tutorial1/Trimmed\n",
    "! mkdir -p Tutorial1/Mapped\n",
    "! mkdir -p Tutorial1/RefGenome\n",
    "\n",
    "# These commands help identify the Amazon S3 bucket where the example files are held.\n",
    "original_bucket = \"s3://nigms-sandbox/unmc_atac_data_examples/Tutorial1\"\n",
    "\n",
    "# This command copies our example files from Amazon S3 bucket to the Tutorial1/Inputfiles folder that we created above.\n",
    "! aws s3 cp --recursive $original_bucket/InputFiles/ Tutorial1/InputFiles/\n",
    "! aws s3 cp --recursive $original_bucket/RefGenome/ Tutorial1/RefGenome/"
   ]
  },
  {
   "cell_type": "markdown",
   "id": "51fc4b08-4f02-4f49-9a8b-48b02a122455",
   "metadata": {},
   "source": [
    "\n",
    "### OK\n",
    "Let's make sure that the files copied correctly. You should see four files after running the following command:"
   ]
  },
  {
   "cell_type": "code",
   "execution_count": null,
   "id": "bce79afb-044f-45da-b7e4-e9a5f93dd1c2",
   "metadata": {},
   "outputs": [],
   "source": [
    "! ls Tutorial1/InputFiles"
   ]
  },
  {
   "cell_type": "markdown",
   "id": "cf7aea89-8610-4430-a802-6f7d387deb8b",
   "metadata": {},
   "source": [
    "<div class=\"alert-info\" style=\"font-size:200%\">\n",
    "STEP 2: QC\n",
    "</div>\n",
    "\n",
    "Sequences are typically provided as files in fastq format. This format includes four lines per sequence.\n"
   ]
  },
  {
   "cell_type": "code",
   "execution_count": null,
   "id": "cf53b855-7b7f-41ad-aedc-676239888529",
   "metadata": {},
   "outputs": [],
   "source": [
    "display_flashcards('../quiz_files/FastqFlashCard.json')"
   ]
  },
  {
   "cell_type": "markdown",
   "id": "35005c48-de5c-4b15-86c4-6a24a47e4121",
   "metadata": {},
   "source": [
    "### Click on the above image to see what each line represents."
   ]
  },
  {
   "cell_type": "markdown",
   "id": "a39c3c75-9011-4a9e-a60e-bb8c503405bb",
   "metadata": {},
   "source": [
    "Next, let's take a look at the sequence quality of the raw reads using fastqc:"
   ]
  },
  {
   "cell_type": "code",
   "execution_count": null,
   "id": "f78e9802-ddd1-4abb-9bbf-3cc10e5d5d90",
   "metadata": {},
   "outputs": [],
   "source": [
    "# This command runs fastqc on each fastq.gz file inside our InputFiles directory and stores the ouput reports in our QC directory.\n",
    "! fastqc -t $numthreadsint -q -o Tutorial1/QC Tutorial1/InputFiles/*fastq.gz\n",
    "\n",
    "# We then use multiqc to summarize the report.\n",
    "! multiqc -o Tutorial1/QC -f Tutorial1/QC 2> Tutorial1/QC/multiqc_log.txt\n",
    "\n",
    "# We'll load this into a pandas table to work in this context, but fastqc also produces an html report that you can browse.\n",
    "dframe = pd.read_csv(\"Tutorial1/QC/multiqc_data/multiqc_fastqc.txt\", sep='\\t')\n",
    "display(dframe)"
   ]
  },
  {
   "cell_type": "markdown",
   "id": "744e8b64-947b-43f4-9bb0-51bf42972bc3",
   "metadata": {},
   "source": [
    "Alternatively, we can view the fastqc HTML files:"
   ]
  },
  {
   "cell_type": "code",
   "execution_count": null,
   "id": "f2df8f13-211b-4584-8600-c5ab1edf8138",
   "metadata": {},
   "outputs": [],
   "source": [
    "# We can display the resulting fastqc results.\n",
    "IFrame(src='Tutorial1/QC/CTL_R1_fastqc.html', width=1080, height=800)"
   ]
  },
  {
   "cell_type": "markdown",
   "id": "579a6da5-11b8-45c9-a9d2-3f63efb0fed4",
   "metadata": {},
   "source": [
    "Look at the the \"Per base sequence content\" in the above FastQC report. We'll trim the reads to remove some of this effect. For now, think about possible explanations for this result.\n",
    "\n",
    "Also look at the \"Sequence Duplication Levels\". Sometimes duplicates appear due to the PCR amplification step of library preparation. We'll remove duplicates in a later step. \n",
    "\n",
    "Lastly, look at the report at the \"Overrepresented sequences\". What are some possible explanations for this result?"
   ]
  },
  {
   "cell_type": "markdown",
   "id": "b228a0d9-0e88-490f-a53d-58ce20d40b64",
   "metadata": {},
   "source": [
    "<div class=\"alert-info\" style=\"font-size:120%\">\n",
    "Trimming\n",
    "</div>\n",
    "Next let's trim our sequences.\n",
    "\n",
    "Why is it particularly important to trim the reads in ATAC-seq? To understand let's review how ATAC-seq works. Tn5 inserts adapter sequences into accessible regions. \n",
    "\n",
    "<img src=\"../images/Tutorial1/LessonImages/adapterinsert.jpg\" alt=\"Drawing\" style=\"width: 400px;\"/>\n",
    "\n",
    "Image source: [Grandi et al., Nature Protocols 2022](https://www.nature.com/articles/s41596-022-00692-9)\n",
    "\n",
    "\n",
    "What would happen if the distance between inserted sites is short? For example our sequencing length in the example dataset is 50 bp, so what would the sequence look like if our fragment (insert size) is only 30 bp long?  "
   ]
  },
  {
   "cell_type": "markdown",
   "id": "01da7a8d-5811-451f-b40f-12d4bdfad90d",
   "metadata": {},
   "source": [
    "<div class=\"alert-info\" style=\"font-size:200%\">\n",
    "Interactive Quiz Question 1: Click on the correct answer in following cell.\n",
    "</div>"
   ]
  },
  {
   "cell_type": "code",
   "execution_count": null,
   "id": "6ca0ae04-b409-4c5d-b318-0887edc0f3c8",
   "metadata": {},
   "outputs": [],
   "source": [
    "display_quiz('../quiz_files/adapterQuiz.json')"
   ]
  },
  {
   "cell_type": "markdown",
   "id": "d7acc56a-62f1-4732-8990-6c3ce77f8fa3",
   "metadata": {},
   "source": [
    "## Let's use trimmomatic to prepare the sequences before mapping."
   ]
  },
  {
   "cell_type": "code",
   "execution_count": null,
   "id": "dc33fbb1-0995-4931-9ce2-48ebbfbed5ef",
   "metadata": {},
   "outputs": [],
   "source": [
    "# This will trim off N's as well as nextera adapters present in ATAC-seq library preparation. Placing the trimmed reads in our Trimmed folder.\n",
    "! trimmomatic PE -threads $numthreadsint Tutorial1/InputFiles/CTL_R1.fastq.gz Tutorial1/InputFiles/CTL_R2.fastq.gz Tutorial1/Trimmed/CTLtrimmed_R1.fastq.gz Tutorial1/Trimmed/CTLunpaired_R1.fastq.gz Tutorial1/Trimmed/CTLtrimmed_R2.fastq.gz Tutorial1/Trimmed/CTLunpaired_R2.fastq.gz ILLUMINACLIP:Tutorial1/RefGenome/NexteraPE.fa:2:30:10 LEADING:3 TRAILING:3"
   ]
  },
  {
   "cell_type": "markdown",
   "id": "adcdef0f-1461-4282-9659-b86c71ea3f77",
   "metadata": {},
   "source": [
    "## Let's do this for the other sample as well."
   ]
  },
  {
   "cell_type": "code",
   "execution_count": null,
   "id": "c5065f1e-42b0-4fcd-b629-f3c69f8fc42d",
   "metadata": {},
   "outputs": [],
   "source": [
    "# This will trim off N's as well as nextera adapters present in ATAC-seq library preparation. Placing the trimmed reads in our Trimmed folder.\n",
    "! trimmomatic PE -threads $numthreadsint Tutorial1/InputFiles/Mutant_R1.fastq.gz Tutorial1/InputFiles/Mutant_R2.fastq.gz Tutorial1/Trimmed/Mutanttrimmed_R1.fastq.gz Tutorial1/Trimmed/Mutantunpaired_R1.fastq.gz Tutorial1/Trimmed/Mutanttrimmed_R2.fastq.gz Tutorial1/Trimmed/Mutantunpaired_R2.fastq.gz ILLUMINACLIP:Tutorial1/RefGenome/NexteraPE.fa:2:30:10 LEADING:3 TRAILING:3"
   ]
  },
  {
   "cell_type": "markdown",
   "id": "4e589ef3-ad38-4b18-86fa-e8afbc2b1001",
   "metadata": {},
   "source": [
    "## Now let's summarize the trimming results."
   ]
  },
  {
   "cell_type": "code",
   "execution_count": null,
   "id": "cedc5d1f-21f7-4bf7-8c8d-0f4209288b8e",
   "metadata": {},
   "outputs": [],
   "source": [
    "! fastqc -t $numthreadsint -q -o Tutorial1/Trimmed Tutorial1/Trimmed/*fastq.gz\n",
    "! multiqc -o Tutorial1/QC -f Tutorial1/Trimmed 2> Tutorial1/QC/multiqc_log.txt\n",
    "\n",
    "dframe = pd.read_csv(\"Tutorial1/QC/multiqc_data/multiqc_general_stats.txt\", sep='\\t')\n",
    "display(dframe)\n"
   ]
  },
  {
   "cell_type": "markdown",
   "id": "282c3886-c4ef-4ebb-8f33-70128e773666",
   "metadata": {},
   "source": [
    "Trimming can be particularly important for ATAC-seq to remove adapter sequences from small-sized fragments. However, keep in mind that after trimming, small fragments are sometimes too short to be used. You'll notice in the trimmomatic output that there were a few reads that were dropped. \n",
    "\n",
    "We can examine the reads further to see the impact of trimming by summarizing the size distribution."
   ]
  },
  {
   "cell_type": "code",
   "execution_count": null,
   "id": "d411746b-59fc-4850-9fcd-a432eee0c19a",
   "metadata": {},
   "outputs": [],
   "source": [
    "# Example code to plot sizes\n",
    "! gunzip -c Tutorial1/Trimmed/CTLtrimmed_R1.fastq.gz | sed -n '2~4p' | awk '{print length($1)}' | sort -k 1bn,1b | uniq -c | awk '{print $2\",\"log($1)}' > Tutorial1/Trimmed/readlengths\n",
    "dframe = pd.read_csv(\"Tutorial1/Trimmed/readlengths\", sep=',', header=None, names = ['log counts of read length'], index_col=0)\n",
    "\n",
    "dframe.plot.area()\n"
   ]
  },
  {
   "cell_type": "markdown",
   "id": "b4464b11-605e-417a-8a2d-dd9dddd952ac",
   "metadata": {},
   "source": [
    "In our example dataset, we used 50 bp paired-end sequencing and trimming did not impact the majority of reads. With your own datasets you may see more reads that are trimmed, depending on the length of sequencing that was performed and the sizes of the fragments that were obtained. In the next steps we will introduce mapping the reads. Keep in mind that too short of reads may not map to the genome. If you see the majority of reads lie in the 10-20 bp  range after trimming, this could indicate a problem with the library. "
   ]
  },
  {
   "cell_type": "markdown",
   "id": "b9cc8fc5-fa07-4345-8f87-caeb5fccd239",
   "metadata": {},
   "source": [
    "<div class=\"alert-info\" style=\"font-size:200%\">\n",
    "STEP 3: Mapping\n",
    "</div>\n",
    "Our fastq files include sequences and quality scores for each base, but we want to figure out which genomic location these sequences came from. To do this we will map each sequence to a reference genome using bowtie2. \n",
    " \n",
    "\n",
    "Mapping reads requires a reference genome. Due to time and memory considerations, in this tutorial we  prepared that file for you and will only map to chr4. However, in a full analysis, we would map to the entire genome. To do so you would need a fasta file corresponding to the reference genome (e.g. [hg38.fa](https://hgdownload.soe.ucsc.edu/goldenPath/hg38/bigZips/)) from which you'd create an index of the genome using bowtie2-build. This can be done with the command: \n",
    "\n",
    "bowtie2-build reference_genome_file.fa outputprefix.\n",
    "\n",
    "As mentioned, we've gone ahead and created the index for you, and, earlier, you copied them into the RefGenome directory. These index files end in the bt2 extension. "
   ]
  },
  {
   "cell_type": "code",
   "execution_count": null,
   "id": "1c5d8404-a5f5-49e7-9625-7deacdbcefa1",
   "metadata": {},
   "outputs": [],
   "source": [
    "! ls Tutorial1/RefGenome/*bt2"
   ]
  },
  {
   "cell_type": "markdown",
   "id": "afa82cbc-a69d-430f-ac83-e94ca498cdf3",
   "metadata": {},
   "source": [
    "These index files were created from our fasta file:"
   ]
  },
  {
   "cell_type": "code",
   "execution_count": null,
   "id": "c4d3279a-de20-4c18-9c0f-39c884b3d0c3",
   "metadata": {},
   "outputs": [],
   "source": [
    "! ls Tutorial1/RefGenome/*fa"
   ]
  },
  {
   "cell_type": "markdown",
   "id": "1d77a351-d805-441b-b524-4f6d1d3358d9",
   "metadata": {},
   "source": [
    "Notice that the single fasta file created multiple index files. When we align we'll specify the prefix of the index files."
   ]
  },
  {
   "cell_type": "code",
   "execution_count": null,
   "id": "1c56662b-6cf5-4319-8b8c-f404d928ea67",
   "metadata": {},
   "outputs": [],
   "source": [
    "# Notes: The -x option specifies the prefix of the index. -1 specifies our left-end trimmed reads file. -2 specifies our right-end trimmed reads file. -S specifies our output file in sam format.\n",
    "! bowtie2 -p $numthreadsint -x Tutorial1/RefGenome/hg38chr4 -1 Tutorial1/Trimmed/CTLtrimmed_R1.fastq.gz -2 Tutorial1/Trimmed/CTLtrimmed_R2.fastq.gz -S Tutorial1/Mapped/CTL.sam\n"
   ]
  },
  {
   "cell_type": "code",
   "execution_count": null,
   "id": "612a3af0-d5b7-4c65-8b6d-be91d30252aa",
   "metadata": {},
   "outputs": [],
   "source": [
    "# Let's do the same thing for our other sample.\n",
    "! bowtie2 -p $numthreadsint -x Tutorial1/RefGenome/hg38chr4 -1 Tutorial1/Trimmed/Mutanttrimmed_R1.fastq.gz -2 Tutorial1/Trimmed/Mutanttrimmed_R2.fastq.gz -S Tutorial1/Mapped/Mutant.sam"
   ]
  },
  {
   "cell_type": "markdown",
   "id": "fc919a58-4757-482d-b5c3-9a52716feecb",
   "metadata": {},
   "source": [
    "### Answer the following question only if you are using the example dataset we provided. This question is simply a check to ensure everything was processed correctly."
   ]
  },
  {
   "cell_type": "code",
   "execution_count": null,
   "id": "990dbd77-7dbd-461c-bf40-b29621089b76",
   "metadata": {},
   "outputs": [],
   "source": [
    "display_flashcards('../quiz_files/alignment.json')"
   ]
  },
  {
   "cell_type": "markdown",
   "id": "d96b5ade-acd6-4ee7-9352-f654cd78ad85",
   "metadata": {},
   "source": [
    "## Bowtie2 outputs a file in [sam format](https://samtools.github.io/hts-specs/SAMv1.pdf), which contains the original sequence, quality scores, and the genomic coordinates matching each read. \n",
    "\n",
    "In the next commands we'll convert the file to the more compressed [bam format](https://genome.ucsc.edu/goldenPath/help/bam.html) and sort the reads by chromosomal coordinates."
   ]
  },
  {
   "cell_type": "code",
   "execution_count": null,
   "id": "6dcaff27-b46c-4d50-bdf6-301f914e6671",
   "metadata": {},
   "outputs": [],
   "source": [
    "# This will convert to bam by using samtools view with the -b option. The h and S option tells samtools that the file has a header and is in sam format. We will pipe this to samtools sort. Pay attention to the \"-\" at the end of the sort command which tells samtools to use stdin.\n",
    "! samtools view -q 10 -bhS Tutorial1/Mapped/CTL.sam | samtools sort -o Tutorial1/Mapped/CTL.bam - \n",
    "print(\"done\")"
   ]
  },
  {
   "cell_type": "code",
   "execution_count": null,
   "id": "e82b8ef3-3b40-4283-8955-326120668070",
   "metadata": {},
   "outputs": [],
   "source": [
    "# Let's do the same thing for our Mutant sample.\n",
    "! samtools view -q 10 -bhS Tutorial1/Mapped/Mutant.sam | samtools sort -o Tutorial1/Mapped/Mutant.bam - \n",
    "print(\"done\")"
   ]
  },
  {
   "cell_type": "markdown",
   "id": "52f5444e-b437-40b8-b222-6304baf38343",
   "metadata": {},
   "source": [
    "You may have noticed the parameters -bhS and -q 10 in the above commands. Briefly, -bhS describes aspects of the file to samtools, such that you want to output a bam file (the b option), that it has a header (the h option), and that it is currently in sam format (the S option). We also specified -q 10 which removes reads with a mapping score <= 10. \n",
    "\n",
    "<div class=\"alert-info\" style=\"font-size:200%\">\n",
    "Interactive Quiz Question 2: Click on the correct answer in the following cell.\n",
    "</div>"
   ]
  },
  {
   "cell_type": "code",
   "execution_count": null,
   "id": "c7eeca9f-d6d0-43f5-b4f4-7a2cfe44ce5e",
   "metadata": {},
   "outputs": [],
   "source": [
    "display_quiz(\"../quiz_files/mappingquality.json\")"
   ]
  },
  {
   "cell_type": "markdown",
   "id": "947d41c9-3436-47f8-854d-bcf1625919b3",
   "metadata": {},
   "source": [
    "<div class=\"alert-info\" style=\"font-size:200%\">\n",
    "STEP 4: Removal of Duplicates\n",
    "</div>\n",
    "It's important to remove duplicates from our reads because part of the ATAC-seq method includes a PCR step for library amplification. This can create biases in the data resulting from PCR duplicates. To understand how PCR duplicates can affect the analysis, let's jump ahead a bit. Accessible sites are represented by ATAC-seq \"peaks\" of signal.\n",
    "\n",
    "<img src=\"../images/Tutorial1/LessonImages/PeaksExample.jpg\" alt=\"Drawing\" style=\"width: 200px;\"/>\n",
    "\n",
    "<div class=\"alert-info\" style=\"font-size:200%\">\n",
    "Interactive Quiz Question 3: Click on the correct answer in the following cell.\n",
    "</div>"
   ]
  },
  {
   "cell_type": "code",
   "execution_count": null,
   "id": "38362bd5-120e-4cfe-943c-e1d7c55a0e82",
   "metadata": {},
   "outputs": [],
   "source": [
    "display_quiz(\"../quiz_files/duplicateQuiz.json\")"
   ]
  },
  {
   "cell_type": "markdown",
   "id": "e6002033-c000-4b2b-9e23-de065180f2f6",
   "metadata": {},
   "source": [
    "Okay, let's remove these duplicates using picard."
   ]
  },
  {
   "cell_type": "code",
   "execution_count": null,
   "id": "783c64d4-e9dc-4a15-bf85-7b1a341748b8",
   "metadata": {},
   "outputs": [],
   "source": [
    "# This will take the sorted bam file and remove duplicates, saving a new bam file and a summary in a text file.\n",
    "! picard MarkDuplicates --REMOVE_DUPLICATES TRUE -I Tutorial1/Mapped/CTL.bam -O Tutorial1/Mapped/CTL_dedup.bam --METRICS_FILE Tutorial1/Mapped/CTL_dedup_metrics.txt --QUIET 2> Tutorial1/Mapped/PicardLog.txt\n",
    "print(\"done\")"
   ]
  },
  {
   "cell_type": "code",
   "execution_count": null,
   "id": "0631658b-bd97-4d1c-9e56-2152c6910440",
   "metadata": {},
   "outputs": [],
   "source": [
    "# We also should do this for the other sample.\n",
    "! picard MarkDuplicates --REMOVE_DUPLICATES TRUE -I Tutorial1/Mapped/Mutant.bam -O Tutorial1/Mapped/Mutant_dedup.bam --METRICS_FILE Tutorial1/Mapped/Mutant_dedup_metrics.txt --QUIET 2> Tutorial1/Mapped/PicardLog2.txt\n",
    "print(\"done\")"
   ]
  },
  {
   "cell_type": "code",
   "execution_count": null,
   "id": "2308d570-94ca-4116-9492-493a6a87db79",
   "metadata": {},
   "outputs": [],
   "source": [
    "# We can use multiqc to summarize the metrics.\n",
    "! multiqc -o Tutorial1/QC -f Tutorial1/Mapped 2> Tutorial1/Mapped/multiqc_log.txt\n",
    "dframe = pd.read_csv(\"Tutorial1/QC/multiqc_data/multiqc_general_stats.txt\", sep='\\t')\n",
    "display(dframe)"
   ]
  },
  {
   "cell_type": "markdown",
   "id": "2cd74255",
   "metadata": {},
   "source": [
    "## Conclusion\n",
    "\n",
    "This Jupyter Notebook detailed the initial preprocessing and quality control steps crucial for accurate ATAC-seq data analysis.  We utilized a published dataset (GSE67382) to demonstrate the workflow, focusing on quality reporting with FastQC and MultiQC, adapter trimming with Trimmomatic, read mapping using Bowtie2, and PCR duplicate removal with Picard.  The notebook incorporated interactive elements, such as quizzes and flashcards, to reinforce key concepts related to ATAC-seq methodology and data interpretation.  The resulting processed BAM files, free of adapter sequences and PCR duplicates, are now ready for downstream analysis, such as peak calling and differential accessibility testing, as detailed in the subsequent tutorial.  This foundational preprocessing ensures the reliability and accuracy of subsequent analyses, laying the groundwork for robust biological conclusions."
   ]
  },
  {
   "cell_type": "markdown",
   "id": "12439dc4-b9ad-49fa-9ccb-4383a272bcaf",
   "metadata": {},
   "source": [
    "## Clean Up\n",
    "We have completed the preprocessing steps and are ready to move on to some downstream analysis. Take a break here or move on to the next tutorial: \n",
    "\n",
    "[Visualization and Peak Detection](./ATACseq_Tutorial2_PeakDetection.ipynb). \n"
   ]
  },
  {
   "cell_type": "markdown",
   "id": "0090b477-7620-482f-8de0-8baaa1c53a8c",
   "metadata": {},
   "source": [
    "<div class=\"alert alert-block alert-danger\">\n",
    "    <b>&#128721; Caution:</b> Remember to shut down your VM after you are finished with your work in order to avoid incurring additional charges.\n",
    "</div>"
   ]
  },
  {
   "cell_type": "markdown",
   "id": "8a24e611-a095-429b-8e6b-d1fc6e9241b8",
   "metadata": {},
   "source": [
    "## AWS Bedrock (Optional)\n",
    "--------\n",
    "\n",
    "If you're having trouble with this submodule (or others within this tutorial), feel free to leverage Bedrock by running the cell below. Bedrock is a fully managed service that simplifies building and scaling generative AI applications. It provides access to various foundation models (FMs) from Amazon and other AI companies.\n",
    "\n",
    "Before being able to use the chatbot you must request **Llama 3 8B Instruct** model access through AWS Bedrock. In order to do this follow the instructions to request model access provided in [AWS Bedrock Intro Notebook](https://github.com/STRIDES/NIHCloudLabAWS/blob/main/notebooks/GenAI/AWS_Bedrock_Intro.ipynb). After requesting the Llama 3 8B Instruct access it should only take a minute to get approved. While waiting for model approval attach the **AmazonBedrockFullAccess** permission to your notebook service role. Once approved run the following code cell to use the model within the notebook. "
   ]
  },
  {
   "cell_type": "code",
   "execution_count": null,
   "id": "536c5a52-0c90-4b0c-ae0d-a55d0ee27c8a",
   "metadata": {},
   "outputs": [],
   "source": [
    "# Ensure you have the necessary libraries installed\n",
    "!pip install -q ipywidgets\n",
    "import sys\n",
    "import os\n",
    "util_path = os.path.join(os.getcwd(), 'util')\n",
    "if util_path not in sys.path:\n",
    "    sys.path.append(util_path)\n",
    "\n",
    "# Import the display_widgets function from your Python file\n",
    "from genai import display_widgets\n",
    "\n",
    "# Call the function to display the widgets\n",
    "display_widgets()"
   ]
  }
 ],
 "metadata": {
  "kernelspec": {
   "display_name": "conda_python3",
   "language": "python",
   "name": "conda_python3"
  },
  "language_info": {
   "codemirror_mode": {
    "name": "ipython",
    "version": 3
   },
   "file_extension": ".py",
   "mimetype": "text/x-python",
   "name": "python",
   "nbconvert_exporter": "python",
   "pygments_lexer": "ipython3",
   "version": "3.10.17"
  }
 },
 "nbformat": 4,
 "nbformat_minor": 5
}
