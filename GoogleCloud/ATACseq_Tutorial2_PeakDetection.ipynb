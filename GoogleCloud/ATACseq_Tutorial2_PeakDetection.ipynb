{
 "cells": [
  {
   "cell_type": "markdown",
   "id": "f7ded04b-10a3-4eee-b7a2-9e1f8528c239",
   "metadata": {},
   "source": [
    "# ATAC-seq Module 2: Visualization and Peak Identification\n",
    "\n",
    "<img src=../images/Tutorial2/LessonImages/ATACseqWorkflowLesson2.jpg alt=\"Drawing\" style=\"width: 1000px;\"/>\n",
    "\n",
    "## Overview\n",
    "In the previous section of this module we performed preprocessing quality control, mapping, and deduplication. In this section we will focus on visualization of the signal, create average plots of signal around transcription start sites (TSSs), and identification of peak signal. "
   ]
  },
  {
   "cell_type": "markdown",
   "id": "fe5e14d1",
   "metadata": {},
   "source": [
    "## Learning Objectives\n",
    "\n",
    "* **Setting up the computational environment:** Installing necessary bioinformatics tools (samtools, deeptools, macs2, IGV) using mamba and pip.\n",
    "\n",
    "* **Data organization and management:** Creating a directory structure and copying example ATAC-seq data files (bam files and genome annotations).\n",
    "\n",
    "* **Data visualization:**\n",
    "    * Understanding the BAM file format and its contents.\n",
    "    * Generating bigwig files from BAM files using `bamCoverage` (deeptools) for visualization of read density across the genome.\n",
    "    * Understanding the concept of BPM (Bins Per Million) normalization.\n",
    "    * Visualizing the bigwig files using IGV to explore read density across genomic regions.\n",
    "    * Generating average profiles of read density around Transcription Start Sites (TSSs) using `computeMatrix` and `plotProfile` (deeptools).  This involves understanding the use of BED files for genomic annotations.\n",
    "\n",
    "* **Peak calling:**\n",
    "    * Understanding the concept of peaks in ATAC-seq data.\n",
    "    * Performing peak calling using `macs2` on the ATAC-seq data.\n",
    "    * Understanding the output of `macs2` (narrowPeak, xls, bed files).\n",
    "    * Visualizing identified peaks alongside the signal in IGV.\n",
    "\n",
    "* **Understanding insert size distributions in paired-end ATAC-seq:**\n",
    "    * Interpreting the distribution of insert sizes to identify nucleosomal fragments and transposase hypersensitive sites (THSS).\n",
    "    * Using `bamPEFragmentSize` (deeptools) to generate a histogram of insert sizes.\n",
    "\n",
    "* **Filtering reads by insert size (optional):** Separating reads into nucleosomal and THSS fragments based on insert size using `samtools`.\n",
    "\n",
    "* **Accounting for Tn5 insertion offset (optional):** Shifting reads using `alignmentSieve` (deeptools) to correct for the 9 bp gap introduced by Tn5."
   ]
  },
  {
   "cell_type": "markdown",
   "id": "eb646b3f",
   "metadata": {},
   "source": [
    "## Prerequisites\n",
    "\n",
    "**Software Prerequisites:**\n",
    "\n",
    "* **Mamba:** Used for managing the software environment and installing packages.\n",
    "* **samtools:** For manipulating BAM files (indexing and viewing).\n",
    "* **deeptools:** For generating bigwig files (`bamCoverage`), computing matrix and plotting profiles (`computeMatrix`, `plotProfile`), and analyzing insert sizes (`bamPEFragmentSize`, `alignmentSieve`).\n",
    "* **macs2:** For peak calling.\n",
    "* **IGV (Integrative Genomics Viewer):** For visualizing genomic data (bigwig files and peaks).  The notebook uses the `igv-notebook` package for Jupyter integration.\n",
    "* **jupyterquiz:** For interactive quiz questions within the notebook.\n",
    "* **pandas:** For data manipulation (though usage is minimal in this example).\n",
    "\n",
    "\n",
    "**APIs:**\n",
    "\n",
    "* **Google Cloud Storage (GCS) API:**  The notebook uses `gsutil` to copy example data files from a GCS bucket.  This requires authentication with Google Cloud."
   ]
  },
  {
   "cell_type": "markdown",
   "id": "59b6fb30",
   "metadata": {},
   "source": [
    "## Get Started\n",
    "### Required Files\n",
    "In this stage of the module you will use the deduplicated bam files that we prepared in the previous section. Don't worry if you are just jumping in now, we have examples of these files saved and will include a step that copies them for your use. You can also use this module on your own data or any published ATAC-seq dataset, but you should complete the mapping and deduplication steps first.\n",
    "\n",
    "\n",
    "### STEP 1: Set Up Environment\n",
    "\n",
    "\n",
    "Initial items to configure your Google Cloud environment. In this step we will use conda to install the following packages:\n",
    "\n",
    "Visualization:\n",
    "[samtools](https://anaconda.org/bioconda/samtools), [deeptools](https://anaconda.org/bioconda/deeptools), [IGV](https://anaconda.org/bioconda/igv)\n",
    "\n",
    "Peak Identification:\n",
    "[macs2](https://anaconda.org/bioconda/macs2)"
   ]
  },
  {
   "cell_type": "code",
   "execution_count": null,
   "id": "f2074873-7df9-46e7-9922-f1b1bb26f7c4",
   "metadata": {
    "scrolled": true
   },
   "outputs": [],
   "source": [
    "! mamba install -c conda-forge ncurses -y\n",
    "! mamba install -c bioconda samtools deeptools macs2 -y\n",
    "! pip install jupyterquiz\n",
    "! pip install igv-notebook"
   ]
  },
  {
   "cell_type": "code",
   "execution_count": null,
   "id": "0a1e98f0-5fa9-4413-b4be-c58321e75688",
   "metadata": {},
   "outputs": [],
   "source": [
    "#import igv_notebook\n",
    "import igv_notebook\n",
    "import sys\n",
    "sys.path.insert(0, \"/home/jupyter/.local/lib/python3.7/site-packages\")\n",
    "from jupyterquiz import display_quiz\n",
    "from IPython.display import IFrame\n",
    "from IPython.display import display\n",
    "from IPython.display import Image\n",
    "import pandas as pd\n",
    "#define the number of threads for parallel processes\n",
    "numthreads=!lscpu | grep '^CPU(s)'| awk '{print $2-1}'\n",
    "numthreadsint = int(numthreads[0])"
   ]
  },
  {
   "cell_type": "markdown",
   "id": "54f8e28a-543c-4eb9-8c6a-6107ce0613a8",
   "metadata": {},
   "source": [
    "## Set Up File System\n",
    "Now lets create some folders to stay organized and copy over our prepared fastq files. We're going to work in a directory called \"Tutorial2\" during this module. We'll then create sub-folders for the files that we'll be creating. "
   ]
  },
  {
   "cell_type": "code",
   "execution_count": null,
   "id": "8a730ba8-82e0-4ab2-a0ef-118a6910cc92",
   "metadata": {},
   "outputs": [],
   "source": [
    "# These commands create our directory structure.\n",
    "! mkdir -p Tutorial2/InputFiles\n",
    "! mkdir -p Tutorial2/GenomeAnnotations\n",
    "! mkdir -p Tutorial2/BigWigFiles\n",
    "! mkdir -p Tutorial2/Peaks\n",
    "! mkdir -p Tutorial2/Plots\n",
    "\n",
    "# These commands help identify the google cloud storage bucket where the example files are held.\n",
    "original_bucket = \"gs://nigms-sandbox/unmc_atac_data_examples/Tutorial2\"\n",
    "\n",
    "# This command copies our example files to the Tutorial2 folders that we created above.\n",
    "! gsutil -m cp $original_bucket/InputFiles/* Tutorial2/InputFiles\n",
    "! gsutil -m cp $original_bucket/Annotations/* Tutorial2/GenomeAnnotations"
   ]
  },
  {
   "cell_type": "markdown",
   "id": "51fc4b08-4f02-4f49-9a8b-48b02a122455",
   "metadata": {},
   "source": [
    "### OK\n",
    "Let's make sure that the files are present. You should see two .bam files after running the following command:"
   ]
  },
  {
   "cell_type": "code",
   "execution_count": null,
   "id": "bce79afb-044f-45da-b7e4-e9a5f93dd1c2",
   "metadata": {},
   "outputs": [],
   "source": [
    "! ls Tutorial2/InputFiles"
   ]
  },
  {
   "cell_type": "markdown",
   "id": "cf7aea89-8610-4430-a802-6f7d387deb8b",
   "metadata": {},
   "source": [
    "<div class=\"alert-info\" style=\"font-size:200%\">\n",
    "STEP 2: Visualization\n",
    "</div>\n",
    "Files in sam/bam format contain a lot of information including the original sequence of the reads, quality scores, and their corresponding chromosomal coordinates.\n",
    "\n",
    "<img src=\"../images/Tutorial2/LessonImages/samformat.jpg\" alt=\"Drawing\" style=\"width: 1000px;\"/>\n",
    "\n",
    "\n",
    "### Please view this [site](https://www.samformat.info/sam-format-flag) for a more complete description of the sam format and to see what the various sam flag values mean.\n",
    "\n",
    "Let's view the first few lines of one of our bam files:"
   ]
  },
  {
   "cell_type": "code",
   "execution_count": null,
   "id": "a51f1ba8-3bf0-4715-bb97-4a029352a3cd",
   "metadata": {},
   "outputs": [],
   "source": [
    "! samtools view Tutorial2/InputFiles/CTL_dedup.bam | head -3 | cat\n",
    "# Note that there will be an error message because we are breaking a pipe by printing only the first 3 lines. Please ignore the error message."
   ]
  },
  {
   "cell_type": "markdown",
   "id": "a39c3c75-9011-4a9e-a60e-bb8c503405bb",
   "metadata": {},
   "source": [
    "While we can see the coordinates of each read, we will need a better way of visualizing the results. In this step we will create a binary file that summarizes the pileup of reads at each base-pair along our genome, in [bigwig](http://genome.ucsc.edu/goldenPath/help/bigWig.html) format. \n",
    "\n",
    "To create the bigwig files let's use the command bamCoverage, part of the [deeptools](https://deeptools.readthedocs.io/en/develop/) package."
   ]
  },
  {
   "cell_type": "code",
   "execution_count": null,
   "id": "f78e9802-ddd1-4abb-9bbf-3cc10e5d5d90",
   "metadata": {},
   "outputs": [],
   "source": [
    "# First we need to create an index of our bam file.\n",
    "! samtools index Tutorial2/InputFiles/CTL_dedup.bam\n",
    "\n",
    "# Then we can create a bigwig file of the control sample.\n",
    "! bamCoverage -b Tutorial2/InputFiles/CTL_dedup.bam -o Tutorial2/BigWigFiles/Control.bw -bs 1 -p $numthreadsint --normalizeUsing BPM 2> Tutorial2/BigWigFiles/bamCovLog_ctl.txt\n",
    "\n",
    "# Now let's rerun the commands for our mutant sample.\n",
    "! samtools index Tutorial2/InputFiles/Mutant_dedup.bam\n",
    "! bamCoverage -b Tutorial2/InputFiles/Mutant_dedup.bam -o Tutorial2/BigWigFiles/Mutant.bw -bs 1 -p $numthreadsint --normalizeUsing BPM 2> Tutorial2/BigWigFiles/bamCovLog_mut.txt\n",
    "\n",
    "print(\"done\")"
   ]
  },
  {
   "cell_type": "markdown",
   "id": "744e8b64-947b-43f4-9bb0-51bf42972bc3",
   "metadata": {},
   "source": [
    "In the above example we specify the bam file name after -b and the output file name after -o. \n",
    "\n",
    "We specified -bs 1, which tells bamCoverage to summarize the reads at every basepair; the default is to summarize at 50 bp resolution, but for ATAC-seq we find it useful to summarize the data at finer-scale. \n",
    "\n",
    "We also specified the number of threads to use with -p, which is held in a variable in our notebook.\n",
    "\n",
    "Lastly, we specified --normalizeUsing BPM. BPM stands for Bins Per Million mapped reads. What do you think this normalization does?\n",
    "\n",
    "<div class=\"alert-info\" style=\"font-size:200%\">\n",
    "Interactive Quiz Question 1: Click on the correct answer in following cell.\n",
    "</div>"
   ]
  },
  {
   "cell_type": "code",
   "execution_count": null,
   "id": "f2df8f13-211b-4584-8600-c5ab1edf8138",
   "metadata": {},
   "outputs": [],
   "source": [
    "display_quiz(\"../quiz_files/BPMnorm.json\")"
   ]
  },
  {
   "cell_type": "markdown",
   "id": "b228a0d9-0e88-490f-a53d-58ce20d40b64",
   "metadata": {},
   "source": [
    "<div class=\"alert-info\" style=\"font-size:120%\">\n",
    "Genome Browser\n",
    "</div>\n",
    "\n",
    "Now that we have our bigwig files, we can visualize the signal in a genome browser. We'll use [igv](https://igv.org/) in this example."
   ]
  },
  {
   "cell_type": "code",
   "execution_count": null,
   "id": "4611752a-36fe-4b76-8fc1-5764a69e74d8",
   "metadata": {},
   "outputs": [],
   "source": [
    "igv_notebook.init()\n",
    "myigv = igv_notebook.Browser(\n",
    "    {\n",
    "        \"genome\": \"hg38\",\n",
    "        \"locus\": \"chr4:55,400,000-56,400,000\"\n",
    "    }\n",
    ")\n",
    "myigv.load_track(\n",
    "{\n",
    "        \"name\": \"CTL\",\n",
    "        \"url\": \"Tutorial2/BigWigFiles/Control.bw\",\n",
    "        \"format\": \"bigwig\",\n",
    "        \"type\": \"wig\"\n",
    "    }\n",
    "    \n",
    ")\n",
    "myigv.load_track(\n",
    "{\n",
    "        \"name\": \"Mutant\",\n",
    "        \"url\": \"Tutorial2/BigWigFiles/Mutant.bw\",\n",
    "        \"format\": \"bigwig\",\n",
    "        \"type\": \"wig\"\n",
    "    }\n",
    "    \n",
    ")"
   ]
  },
  {
   "cell_type": "markdown",
   "id": "d12de40e-f2f4-49fe-8080-f2f4a4550667",
   "metadata": {},
   "source": [
    "This will load in the signal into IGV and allow you to browse the genome. Feel free to play around with this. More instructions can be found on the [IGV](https://igv.org/) website. \n",
    "\n",
    "Notice that when we first load in the files, the scales are different on the left-hand side. IGV defaults to autoscale each individually. However, if we want to compare to signals we should use the same y-axis scale for both. We can do this because we included BPM normalization. To change the scale, click on the gear icon on the right of each track and select \"Set data range\". Let's set the maximum to 300 both both. \n",
    "\n",
    "<img src=\"../images/Tutorial2/LessonImages/igv.jpg\" alt=\"Drawing\" style=\"width: 1200px;\"/>\n",
    "\n",
    "\n",
    "In addition to scrolling along the genome, go ahead an try to zoom in on a specific \"peak\" of signal. You can do so by clicking on the top ruler (where the coordinates are displayed), holding, and dragging either direction. Alternatively, you can click on the + and - signs at the top right."
   ]
  },
  {
   "cell_type": "markdown",
   "id": "96a1182d-a186-4739-b450-a2e4bebad39e",
   "metadata": {},
   "source": [
    "<div class=\"alert-info\" style=\"font-size:120%\">\n",
    "Average Profiles\n",
    "</div>\n",
    "\n",
    "In addition to browsing, we can make average profiles of signal across specific regions. For example, ATAC-seq signal should be enriched near TSSs. Let's test this using [deeptools](https://anaconda.org/bioconda/deeptools).\n",
    "\n",
    "Deeptools takes in a bigwig file representing the signal. It also takes a bed file representing the features across which one wants to average the signal. In our case the bed file will be composed of gene annotations. Creating the profile will occur in two steps. The first is to create the summarized matrix, while the second plots that data."
   ]
  },
  {
   "cell_type": "code",
   "execution_count": null,
   "id": "99f9b0f8-dd27-4c87-95df-9907b03d2181",
   "metadata": {},
   "outputs": [],
   "source": [
    "# -S option specifies the bigwig signal file, where we can specify multiple separated by spaces. -R option specifies the genome annotation bed file. -a and -b specify how many bp to plot on either side. \n",
    "! computeMatrix reference-point --referencePoint TSS -S Tutorial2/BigWigFiles/Control.bw Tutorial2/BigWigFiles/Mutant.bw -R Tutorial2/GenomeAnnotations/hg38_genes_chr4.bed -o Tutorial2/Plots/TSSprofileMatrix -a 10000 -b 10000\n",
    "! plotProfile -m Tutorial2/Plots/TSSprofileMatrix -o Tutorial2/Plots/TSSprofile.png "
   ]
  },
  {
   "cell_type": "markdown",
   "id": "293e608d-53dd-45fb-aa8f-1740e3957cbd",
   "metadata": {},
   "source": [
    "Let's view the output:"
   ]
  },
  {
   "cell_type": "code",
   "execution_count": null,
   "id": "fed23e63-b861-45c2-a080-bd6ce73d006f",
   "metadata": {},
   "outputs": [],
   "source": [
    "Image(url= \"Tutorial2/Plots/TSSprofile.png\", width=400, height=400)"
   ]
  },
  {
   "cell_type": "markdown",
   "id": "5378c61c-729f-474a-82a1-eba0d9b666a7",
   "metadata": {},
   "source": [
    "<div class=\"alert-info\" style=\"font-size:120%\">\n",
    "A note on insert sizes\n",
    "</div>\n",
    "\n",
    "As reported in the original ATAC-seq publication, high quality ATAC-seq datasets reveal a specific distribution of insert sizes that correspond to distinct chromatin features. \n",
    "To view an example of this distribution, see the following publication: Buenrostro et al., Transposition of native chromatin for fast and sensitive epigenomic profiling of open chromatin, DNA-binding proteins and nucleosome position, Nat. Methods, 2013.\n",
    "\n",
    "<img src=\"../images/Tutorial2/LessonImages/sizeProfile.jpg\" alt=\"Drawing\" style=\"width: 400px;\"/>\n",
    "\n",
    "Here we see abundant insert sizes corresponding to accessible chromatin vs nucleosomal fragments. Note that we only know the insert size with paired-end data, and not with single-end sequencing.\n",
    "\n",
    "### Nucleosomes consist of 145 bp of DNA wrapped around histones. Because Tn5 randomly inserts near protected sites, in paired-end ATAC-seq this results in a slightly larger range of protected fragments (i.e. insertion sizes). Based on this information, look at the graph and think about the size range that would be most consistent with TF binding vs mono-nucleosomes. \n",
    "\n",
    "We can use Deeptools to summarize our insert sizes. "
   ]
  },
  {
   "cell_type": "code",
   "execution_count": null,
   "id": "4e16f3a4-6d24-4d53-8021-0e023e6cf024",
   "metadata": {},
   "outputs": [],
   "source": [
    "! bamPEFragmentSize -b Tutorial2/InputFiles/CTL_dedup.bam Tutorial2/InputFiles/Mutant_dedup.bam -o Tutorial2/Plots/Insertsizes_histogram.png -p $numthreadsint --maxFragmentLength 1000 > Tutorial2/Plots/insertsize_log.txt\n",
    "print(\"done\")\n"
   ]
  },
  {
   "cell_type": "code",
   "execution_count": null,
   "id": "8f84a3bb-f2ff-49c0-a711-eda26ec04f5e",
   "metadata": {},
   "outputs": [],
   "source": [
    "Image(url= \"Tutorial2/Plots/Insertsizes_histogram.png\", width=400, height=400)"
   ]
  },
  {
   "cell_type": "markdown",
   "id": "f8983a5f-1ea9-4ae0-b3a0-771ad05b2a64",
   "metadata": {},
   "source": [
    "<div class=\"alert-info\" style=\"font-size:200%\">\n",
    "Interactive Quiz Question 2: Click on the correct answer in the following cell.\n",
    "</div>"
   ]
  },
  {
   "cell_type": "code",
   "execution_count": null,
   "id": "b8577a03-24ae-4acb-938e-8d767676751c",
   "metadata": {},
   "outputs": [],
   "source": [
    "display_quiz(\"../quiz_files/InsertSizeQuiz.json\")"
   ]
  },
  {
   "cell_type": "markdown",
   "id": "a8a9b451-c231-4dc4-9a3b-e8da8b92fcec",
   "metadata": {},
   "source": [
    "With paired-end ATAC-seq data we can separate by fragment size to obtain Transposase HyperSensitive Sites (THSS) and Nucleosomal Fragments. Alternatively, some choose to keep the data together as a more general measure of \"accessible\" sites. These THSS correspond to smaller fragments than the nucleosomes and correspond to transcription factor binding sites.\n",
    "\n",
    "<img src=\"../images/Tutorial1/LessonImages/MethodAnimation.gif\" alt=\"Drawing\" style=\"width: 400px;\"/>\n",
    "\n",
    "We'll show you how to separate the small and large fragments into different bam files."
   ]
  },
  {
   "cell_type": "code",
   "execution_count": null,
   "id": "69afce06-71ba-40e4-b977-62d69156b4df",
   "metadata": {},
   "outputs": [],
   "source": [
    "# Filter by insert size:\n",
    "! samtools view -h Tutorial2/InputFiles/CTL_dedup.bam | awk 'substr($0,1,1)==\"@\" || ($9>= 150 && $9<=250) || ($9<=-150 && $9>=-250)' | samtools view -b > Tutorial2/InputFiles/CTL_Nucleosomal.bam\n",
    "! samtools view -h Tutorial2/InputFiles/CTL_dedup.bam | awk 'substr($0,1,1)==\"@\" || ($9>= 10 && $9<=125) || ($9<=-10 && $9>=-125)' | samtools view -b > Tutorial2/InputFiles/CTL_THSS.bam\n",
    "# Do the same for the mutant:\n",
    "! samtools view -h Tutorial2/InputFiles/Mutant_dedup.bam | awk 'substr($0,1,1)==\"@\" || ($9>= 150 && $9<=250) || ($9<=-150 && $9>=-250)' | samtools view -b > Tutorial2/InputFiles/Mutant_Nucleosomal.bam\n",
    "! samtools view -h Tutorial2/InputFiles/Mutant_dedup.bam | awk 'substr($0,1,1)==\"@\" || ($9>= 10 && $9<=125) || ($9<=-10 && $9>=-125)' | samtools view -b > Tutorial2/InputFiles/Mutant_THSS.bam"
   ]
  },
  {
   "cell_type": "markdown",
   "id": "f598298f-efeb-4df0-a41c-d6ec96fbaf32",
   "metadata": {},
   "source": [
    "For the rest of this tutorial, we'll use the bam files that contain all the reads as many use this as a general measurement of \"accessibility\". However, you can use these split bam files to create bigwigs, view them in a genome browser, and create average profiles around features as demonstrated earlier. You can also use them in our downstream analysis in lieu of the combined file that we will show in our examples.  "
   ]
  },
  {
   "cell_type": "markdown",
   "id": "e6002033-c000-4b2b-9e23-de065180f2f6",
   "metadata": {},
   "source": [
    "<div class=\"alert-info\" style=\"font-size:200%\">\n",
    "STEP 3: Peak Detection\n",
    "</div>\n",
    "<img src=\"../images/Tutorial2/LessonImages/Peak.jpg\" alt=\"Drawing\" style=\"width: 200px;\"/>\n",
    "\n",
    "Accessible sites are loci with a pileup of reads in \"Peaks\". \n",
    "\n",
    "### Opitional Note:\n",
    "Tn5 insertion of adapters leaves a 9 bp gap. In the end, this probably won't impact the results much. However, to be safe we can shift the reads to account for this insertion offset.\n",
    "\n",
    "<img src=\"../images/Tutorial2/LessonImages/adapterinsert9bp.jpg\" alt=\"Drawing\" style=\"width: 300px;\"/>\n",
    "\n",
    "Image adjusted from: [Grandi et al., Nature Protocols 2022](https://www.nature.com/articles/s41596-022-00692-9)\n",
    "\n",
    "The alignmentSieve command from [deeptools](https://anaconda.org/bioconda/deeptools) allows us to shift the reads accordingly."
   ]
  },
  {
   "cell_type": "code",
   "execution_count": null,
   "id": "d5fde7ad-bc2d-4183-889f-391a66467ff0",
   "metadata": {},
   "outputs": [],
   "source": [
    "! alignmentSieve -p $numthreadsint --ATACshift -b Tutorial2/InputFiles/CTL_dedup.bam -o Tutorial2/InputFiles/CTL_shift.bam\n",
    "! alignmentSieve -p $numthreadsint --ATACshift -b Tutorial2/InputFiles/Mutant_dedup.bam -o Tutorial2/InputFiles/Mutant_shift.bam"
   ]
  },
  {
   "cell_type": "markdown",
   "id": "421549cb-3cf6-4a86-9b2f-34fdf109ff2d",
   "metadata": {},
   "source": [
    "Let's identify peaks genome-wide using [macs2](https://pypi.org/project/MACS2/)."
   ]
  },
  {
   "cell_type": "code",
   "execution_count": null,
   "id": "2bc4e422-7813-4b9f-b984-04948f40b26d",
   "metadata": {},
   "outputs": [],
   "source": [
    "# If your data is single-end (not paired-end), use -f BAM instead.\n",
    "! macs2 callpeak -f BAMPE -g hs --keep-dup all --cutoff-analysis -n CTL -t Tutorial2/InputFiles/CTL_shift.bam --outdir Tutorial2/Peaks/ 2> Tutorial2/Peaks/macs2_CTL.log\n",
    "! macs2 callpeak -f BAMPE -g hs --keep-dup all --cutoff-analysis -n Mutant -t Tutorial2/InputFiles/Mutant_shift.bam --outdir Tutorial2/Peaks/ 2> Tutorial2/Peaks/macs2_Mutant.log"
   ]
  },
  {
   "cell_type": "markdown",
   "id": "2b1c921c-fe40-4fd9-8370-1711a317b632",
   "metadata": {},
   "source": [
    "macs2 provides a .narrowPeak file specifying the coordinates of the peaks, an .xls file with additional information, and a .bed file with the summits of the peaks.\n",
    "\n",
    "Let's view the first 10 lines of the .narrowPeak file."
   ]
  },
  {
   "cell_type": "code",
   "execution_count": null,
   "id": "43fcb3c4-3341-4255-8db9-ea822dfb62aa",
   "metadata": {},
   "outputs": [],
   "source": [
    "# If you have any trouble with this command, try uninstalling macs2 and reinstalling with pip\n",
    "! head Tutorial2/Peaks/CTL_peaks.narrowPeak"
   ]
  },
  {
   "cell_type": "markdown",
   "id": "d05e89eb-5ea0-44c8-8575-876a91a6a3fd",
   "metadata": {},
   "source": [
    "We can also visually inspect the peaks compared to the signal in IGV:"
   ]
  },
  {
   "cell_type": "code",
   "execution_count": null,
   "id": "1d443da3-afeb-4fa3-ae64-1e2c64b6dbc1",
   "metadata": {},
   "outputs": [],
   "source": [
    "igv_notebook.init()"
   ]
  },
  {
   "cell_type": "code",
   "execution_count": null,
   "id": "d1f5be14-72a7-4f20-a6e5-2b0409ca407a",
   "metadata": {},
   "outputs": [],
   "source": [
    "igv_notebook.init()\n",
    "myigv = igv_notebook.Browser(\n",
    "    {\n",
    "        \"genome\": \"hg38\",\n",
    "        \"locus\": \"chr4:55,570,000-55,670,000\"\n",
    "    }\n",
    ")\n",
    "myigv.load_track(\n",
    "{\n",
    "        \"name\": \"CTL\",\n",
    "        \"url\": \"Tutorial2/BigWigFiles/Control.bw\",\n",
    "        \"format\": \"bigwig\",\n",
    "        \"type\": \"wig\"\n",
    "    }\n",
    "    \n",
    ")\n",
    "myigv.load_track(\n",
    "{\n",
    "        \"name\": \"CTL_peaks\",\n",
    "        \"url\": \"Tutorial2/Peaks/CTL_peaks.narrowPeak\",\n",
    "        \"format\": \"bed\",\n",
    "        \"type\": \"annotation\"\n",
    "    }\n",
    "    \n",
    ")\n",
    "myigv.load_track(\n",
    "{\n",
    "        \"name\": \"Mutant\",\n",
    "        \"url\": \"Tutorial2/BigWigFiles/Mutant.bw\",\n",
    "        \"format\": \"bigwig\",\n",
    "        \"type\": \"wig\"\n",
    "    }\n",
    "    \n",
    ")\n",
    "myigv.load_track(\n",
    "{\n",
    "        \"name\": \"Mutant_peaks\",\n",
    "        \"url\": \"Tutorial2/Peaks/Mutant_peaks.narrowPeak\",\n",
    "        \"format\": \"bed\",\n",
    "        \"type\": \"annotation\"\n",
    "    }\n",
    "    \n",
    ")"
   ]
  },
  {
   "cell_type": "markdown",
   "id": "11137a99",
   "metadata": {},
   "source": [
    "## Conclusion\n",
    "\n",
    "This Jupyter Notebook provided a comprehensive guide to visualizing and identifying peaks in ATAC-seq data.  We successfully set up the necessary computational environment, organized our data, and generated bigwig files for visualization in IGV.  The notebook demonstrated the creation of average read density profiles around transcription start sites using deepTools, providing insights into genomic signal distribution.  Furthermore, we performed peak calling using macs2, identifying regions of open chromatin, and visualized these peaks alongside the signal in IGV.  The analysis also included an examination of insert size distributions to differentiate between nucleosomal fragments and transposase hypersensitive sites.  Optional steps, such as filtering reads by insert size and accounting for Tn5 insertion offset, were also presented.  This module successfully covered key steps in ATAC-seq data analysis, laying the groundwork for more advanced downstream analyses detailed in the subsequent notebook."
   ]
  },
  {
   "cell_type": "markdown",
   "id": "12439dc4-b9ad-49fa-9ccb-4383a272bcaf",
   "metadata": {},
   "source": [
    "## Clean Up\n",
    "We have completed the first downstream processing steps and are ready to move on to some additional downstream analysis. Take a break here or move on to the next tutorial.\n",
    "\n",
    "[Downtream Analysis](./ATACseq_Tutorial3_Downstream.ipynb)"
   ]
  },
  {
   "cell_type": "markdown",
   "id": "747c4e84-3139-4a19-b27a-80794a9bb5f1",
   "metadata": {},
   "source": [
    "<div class=\"alert alert-block alert-danger\">\n",
    "    <b>&#128721; Caution:</b> Remember to shut down your VM after you are finished with your work in order to avoid incurring additional charges.\n",
    "</div>"
   ]
  }
 ],
 "metadata": {
  "environment": {
   "kernel": "conda-base-py",
   "name": "workbench-notebooks.m128",
   "type": "gcloud",
   "uri": "us-docker.pkg.dev/deeplearning-platform-release/gcr.io/workbench-notebooks:m128"
  },
  "kernelspec": {
   "display_name": "Python 3 (ipykernel) (Local)",
   "language": "python",
   "name": "conda-base-py"
  },
  "language_info": {
   "codemirror_mode": {
    "name": "ipython",
    "version": 3
   },
   "file_extension": ".py",
   "mimetype": "text/x-python",
   "name": "python",
   "nbconvert_exporter": "python",
   "pygments_lexer": "ipython3",
   "version": "3.10.16"
  }
 },
 "nbformat": 4,
 "nbformat_minor": 5
}
