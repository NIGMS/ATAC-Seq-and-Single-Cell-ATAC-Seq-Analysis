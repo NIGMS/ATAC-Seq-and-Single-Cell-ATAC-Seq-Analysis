{
 "cells": [
  {
   "cell_type": "markdown",
   "id": "f7ded04b-10a3-4eee-b7a2-9e1f8528c239",
   "metadata": {},
   "source": [
    "# ATAC-seq Module 3: Downstream Analysis\n",
    "\n",
    "<img src=Tutorial3/LessonImages/ATACseqWorkflowLesson3.jpg alt=\"Drawing\" style=\"width: 1000px;\"/>\n",
    "\n",
    "## Overview & Purpose\n",
    "In the previous sections of this module we performed preprocessing quality control, mapping, deduplication, visualization, profiling around TSSs, and peak identification. In this section we will focus on differential peak identification, motif footprinting, and annotation of nearby genomic features. \n",
    "\n",
    "### Required Files\n",
    "In this stage of the module you will use several of the files that we prepared in the previous sections. Don't worry if you are just jumping in now, we have examples of these files saved and will include a step that copies them for your use. You can also use this module on your own data or any published ATAC-seq dataset, but you should complete the mapping and deduplication steps first.\n",
    "\n",
    "<div class=\"alert-info\" style=\"font-size:200%\">\n",
    "STEP 1: Set Up Environment\n",
    "</div>\n",
    "\n",
    "Initial items to configure your Google Cloud environment. In this step we will use conda to install the following packages:\n",
    "\n",
    "Differential Peak Identification:\n",
    "[manorm](https://anaconda.org/bioconda/manormfast)\n",
    "\n",
    "Genome Annotation:\n",
    "[homer](https://anaconda.org/bioconda/homer)\n",
    "\n",
    "Motif Analysis:\n",
    "[tobias](https://anaconda.org/bioconda/tobias)"
   ]
  },
  {
   "cell_type": "code",
   "execution_count": null,
   "id": "f2074873-7df9-46e7-9922-f1b1bb26f7c4",
   "metadata": {},
   "outputs": [],
   "source": [
    "numthreads=!lscpu | grep '^CPU(s)'| awk '{print $2-1}'\n",
    "numthreadsint = int(numthreads[0])\n",
    "!~/mambaforge/bin/mamba install -c bioconda homer -y\n",
    "!pip install manorm\n",
    "!pip install tobias\n",
    "!pip install jupyterquiz==2.0.7\n",
    "from jupyterquiz import display_quiz\n",
    "from IPython.display import IFrame\n",
    "from IPython.display import display\n",
    "import pandas as pd"
   ]
  },
  {
   "cell_type": "markdown",
   "id": "54f8e28a-543c-4eb9-8c6a-6107ce0613a8",
   "metadata": {},
   "source": [
    "## Set Up File System\n",
    "Now lets create some folders to stay organized."
   ]
  },
  {
   "cell_type": "code",
   "execution_count": null,
   "id": "8a730ba8-82e0-4ab2-a0ef-118a6910cc92",
   "metadata": {},
   "outputs": [],
   "source": [
    "# These commands create our directory structure.\n",
    "!mkdir -p Tutorial3/InputFiles\n",
    "!mkdir -p Tutorial3/GenomeAnnotation\n",
    "!mkdir -p Tutorial3/DiffPeaks\n",
    "!mkdir -p Tutorial3/MotifFootprinting\n",
    "!mkdir -p Tutorial3/Plots\n",
    "\n",
    "# These commands help identify the google cloud storage bucket where the example files are held.\n",
    "original_bucket = \"gs://nigms-sandbox/unmc_atac_data_examples/Tutorial3\"\n",
    "\n",
    "# This command copies our example files to the InputFiles folder that we created above.\n",
    "!gsutil -m cp $original_bucket/InputFiles/* Tutorial3/InputFiles"
   ]
  },
  {
   "cell_type": "markdown",
   "id": "51fc4b08-4f02-4f49-9a8b-48b02a122455",
   "metadata": {},
   "source": [
    "### OK\n",
    "Let's make sure that the files copied correctly. You should see two .bam files, two .bai files, and two .narrowPeak files after running the following command:"
   ]
  },
  {
   "cell_type": "code",
   "execution_count": null,
   "id": "2d9b02b6-3f5a-4880-a533-71804ec7365d",
   "metadata": {},
   "outputs": [],
   "source": [
    "!ls Tutorial3/InputFiles/*"
   ]
  },
  {
   "cell_type": "markdown",
   "id": "cf7aea89-8610-4430-a802-6f7d387deb8b",
   "metadata": {},
   "source": [
    "<div class=\"alert-info\" style=\"font-size:200%\">\n",
    "Differential Peak Identification\n",
    "</div>\n",
    "If you have two or more samples and desire to discover differential peaks, we recommend using manorm. Novices may be tempted to simply intersect the two peak lists to find the overlap, however this is highly inadvisable. \n",
    "\n",
    "<div class=\"alert-info\" style=\"font-size:200%\">\n",
    "Interactive Quiz Question 1: Click on the correct answer in the following cell.\n",
    "</div>"
   ]
  },
  {
   "cell_type": "code",
   "execution_count": null,
   "id": "1ddac73d-8512-4697-aceb-150ae417d476",
   "metadata": {},
   "outputs": [],
   "source": [
    "display_quiz(\"quiz_files/DiffPeaks.json\")"
   ]
  },
  {
   "cell_type": "markdown",
   "id": "21691ec7-e2d0-474f-939e-ddc84b046452",
   "metadata": {},
   "source": [
    "### Consider the below peak which was identified in both the control and mutant sample. A simple intersect would result in this peak being reported as unchanged between the two samples. To represent the differences we will use [manorm](https://anaconda.org/bioconda/manormfast).\n",
    "\n",
    "<img src=\"Tutorial3/LessonImages/PeakOverlapProblem.jpg\" alt=\"Drawing\" style=\"width: 100px;\"/>"
   ]
  },
  {
   "cell_type": "code",
   "execution_count": null,
   "id": "17cea9d5-2b65-4513-bba3-7e2970c90aa9",
   "metadata": {},
   "outputs": [],
   "source": [
    "# We specify several non-default parameters to better reflect ATAC-seq data.\n",
    "!manorm --p1 Tutorial3/InputFiles/CTL_peaks.narrowPeak --p2 Tutorial3/InputFiles/Mutant_peaks.narrowPeak --r1 Tutorial3/InputFiles/CTL_dedup.bam --r2 Tutorial3/InputFiles/Mutant_dedup.bam --rf bam --n1 CTL --n2 Mutant --pe -w 1000 -o Tutorial3/DiffPeaks --wa 2> Tutorial3/DiffPeaks/log_manorm.txt\n",
    "print(\"done\")"
   ]
  },
  {
   "cell_type": "markdown",
   "id": "1e61bd4a-26e2-4ce6-a719-6b8c51ed9dca",
   "metadata": {},
   "source": [
    "The above command will write out several files including the differential peaks for each sample as well as the unchanged peaks."
   ]
  },
  {
   "cell_type": "code",
   "execution_count": null,
   "id": "a51f1ba8-3bf0-4715-bb97-4a029352a3cd",
   "metadata": {},
   "outputs": [],
   "source": [
    "!ls Tutorial3/DiffPeaks/output_filters"
   ]
  },
  {
   "cell_type": "code",
   "execution_count": null,
   "id": "4d7d7656-9e43-4cce-a173-fee9b0a82dfa",
   "metadata": {},
   "outputs": [],
   "source": [
    "# Let's also check the format of these files.\n",
    "!head Tutorial3/DiffPeaks/output_filters/CTL_vs_Mutant_M_above_1.0_biased_peaks.bed"
   ]
  },
  {
   "cell_type": "code",
   "execution_count": null,
   "id": "42d1dbc3-7708-4907-8089-a76fee983a3e",
   "metadata": {},
   "outputs": [],
   "source": [
    "# We can also count how many are in each.\n",
    "!wc -l Tutorial3/DiffPeaks/output_filters/*bed"
   ]
  },
  {
   "cell_type": "code",
   "execution_count": null,
   "id": "ff40bca1-bef8-48c8-8c9b-033ac6fec8c7",
   "metadata": {},
   "outputs": [],
   "source": [
    "# Our log file tells us this information as well.\n",
    "!tail Tutorial3/DiffPeaks/log_manorm.txt"
   ]
  },
  {
   "cell_type": "markdown",
   "id": "f2832435-d335-476e-9bef-1c71797f10c7",
   "metadata": {},
   "source": [
    "<div class=\"alert-info\" style=\"font-size:100%\">\n",
    "Annotating Peaks\n",
    "</div>\n",
    "\n",
    "Let's take the differential peaks and annotate them with nearby genes and perform gene ontology using [homer](https://anaconda.org/bioconda/homer).\n",
    "\n",
    "First we need to reformat the differential peaks file to the format required by homer.\n",
    "\n",
    "In an earlier command, we examined the format of manorm's output using head and saw that it outputs a five column format. We will change this to a 6-column bed format including a unique name for each peak."
   ]
  },
  {
   "cell_type": "code",
   "execution_count": null,
   "id": "7029964f-05bb-40e1-a007-69387a33485e",
   "metadata": {},
   "outputs": [],
   "source": [
    "# This command will reformat the peaks file including the line number in naming the peaks (NR) as well as a place-holder strand in the 6th column (note that peaks don't necessarily have a strand, but the format requires this column). The -F \\t tells awk that the file is tab delimited.\n",
    "!awk '{print $1\"\\t\"$2\"\\t\"$3\"\\t\"$4\"_\"NR\"\\t\"$5\"\\t+\"}' Tutorial3/DiffPeaks/output_filters/CTL_vs_Mutant_M_above_1.0_biased_peaks.bed > Tutorial3/GenomeAnnotation/CTL_specific_peaks.bed\n",
    "# Let's head this to compare.\n",
    "!head Tutorial3/GenomeAnnotation/CTL_specific_peaks.bed"
   ]
  },
  {
   "cell_type": "markdown",
   "id": "0996284a-06bd-43f2-ae7b-ed6807e5623c",
   "metadata": {},
   "source": [
    "Now let's configure homer to recognize our genome build. We aligned our reads to hg38, so we'll have homer use that."
   ]
  },
  {
   "cell_type": "code",
   "execution_count": null,
   "id": "32334764-854f-4739-a178-4273997248a2",
   "metadata": {},
   "outputs": [],
   "source": [
    "!perl /opt/conda/share/homer/configureHomer.pl -install hg38 2> Tutorial3/DiffPeaks/homer_log1.txt\n",
    "print(\"done\")"
   ]
  },
  {
   "cell_type": "markdown",
   "id": "b3f00783-28c0-4032-a841-42a5da716536",
   "metadata": {},
   "source": [
    "Let's use that reformatted peak file to get nearby genes and perform gene ontology analysis."
   ]
  },
  {
   "cell_type": "code",
   "execution_count": null,
   "id": "a79558d5-24a2-4b4c-9795-48af65cf6545",
   "metadata": {},
   "outputs": [],
   "source": [
    "!annotatePeaks.pl Tutorial3/GenomeAnnotation/CTL_specific_peaks.bed hg38 -go Tutorial3/GenomeAnnotation/CTL_GO -annStats Tutorial3/GenomeAnnotation/CTL_annStats.txt > Tutorial3/GenomeAnnotation/CTL_specific_Annotated.txt"
   ]
  },
  {
   "cell_type": "markdown",
   "id": "ccb425f8-7be0-4854-9344-48479b57ab70",
   "metadata": {},
   "source": [
    "Let's look at the output files. First, let's look at the first two lines of at our annotation stats."
   ]
  },
  {
   "cell_type": "code",
   "execution_count": null,
   "id": "efa56f92-b6be-42dc-a3df-65a03b201e93",
   "metadata": {},
   "outputs": [],
   "source": [
    "# Clean up duplicate entries.\n",
    "!sort -u Tutorial3/GenomeAnnotation/CTL_annStats.txt | grep -v Annotation > Tutorial3/GenomeAnnotation/CTL_annStats_clean.txt\n",
    "\n",
    "# Load results into a pandas table.\n",
    "annstats = pd.read_csv(\"Tutorial3/GenomeAnnotation/CTL_annStats_clean.txt\", sep='\\t', header=None, names=['annotation','peakcount','size','foldenrichment','log10significance'])\n",
    "\n",
    "# View entries sorted by enrichment.\n",
    "annstats_sorted = annstats.sort_values(by=[\"foldenrichment\"], ascending=False)\n",
    "display(annstats_sorted)"
   ]
  },
  {
   "cell_type": "markdown",
   "id": "74893643-1429-4894-afeb-e4af6d745a1d",
   "metadata": {},
   "source": [
    "From this we can see highest enrichment in 5' UTRs and promoters.\n",
    "\n",
    "Let's plot the results as a bar plot."
   ]
  },
  {
   "cell_type": "code",
   "execution_count": null,
   "id": "4fe8630e-b47a-4bb4-b9c1-80c6e93f1644",
   "metadata": {},
   "outputs": [],
   "source": [
    "annstats_sorted.plot.bar(x=\"annotation\", y=\"foldenrichment\")"
   ]
  },
  {
   "cell_type": "markdown",
   "id": "ddd988cb-5409-4734-bcf7-5a740a9e9a96",
   "metadata": {},
   "source": [
    "Homer also outputs the nearest annotation for each peak. Let's look at the first few lines of our annotation file."
   ]
  },
  {
   "cell_type": "code",
   "execution_count": null,
   "id": "bff56b0d-72a8-4532-b1f7-fa4f064f2c91",
   "metadata": {},
   "outputs": [],
   "source": [
    "!head -4 Tutorial3/GenomeAnnotation/CTL_specific_Annotated.txt"
   ]
  },
  {
   "cell_type": "markdown",
   "id": "7193cee9-f1cc-40b5-84be-a1aae44bd217",
   "metadata": {},
   "source": [
    "Lastly, let's take a look at the gene ontology results"
   ]
  },
  {
   "cell_type": "code",
   "execution_count": null,
   "id": "59b16ae4-3d55-4363-8d27-4d812a98b115",
   "metadata": {},
   "outputs": [],
   "source": [
    "# List the files in our GO directory.\n",
    "!ls Tutorial3/GenomeAnnotation/CTL_GO/"
   ]
  },
  {
   "cell_type": "markdown",
   "id": "b2ea0509-a6a4-4df0-8d69-dec674e7e3f1",
   "metadata": {},
   "source": [
    "Let's view the top terms in the biological_process category."
   ]
  },
  {
   "cell_type": "code",
   "execution_count": null,
   "id": "98cdaf7b-a83b-40de-bff4-9587642d60fb",
   "metadata": {},
   "outputs": [],
   "source": [
    "\n",
    "bp_GO = pd.read_csv(\"Tutorial3/GenomeAnnotation/CTL_GO/biological_process.txt\", sep='\\t')\n",
    "\n",
    "# Keep most significant.\n",
    "bp_GO_top10 = bp_GO.nsmallest(10, \"logP\")\n",
    "display(bp_GO_top10)"
   ]
  },
  {
   "cell_type": "markdown",
   "id": "d86df868-6af0-4bf9-880f-62142230bdc4",
   "metadata": {},
   "source": [
    "We can also plot the enrichment scores\n",
    "\n",
    "Note that our results may look a little odd because we have severely downsampled the data to run quickly and focus on a single region of chr4. "
   ]
  },
  {
   "cell_type": "code",
   "execution_count": null,
   "id": "0aec57a7-412d-41fd-8aea-d8b164faa49b",
   "metadata": {},
   "outputs": [],
   "source": [
    "bp_GO_top10.plot.bar(x=\"Term\", y=\"Enrichment\")"
   ]
  },
  {
   "cell_type": "markdown",
   "id": "a6dcf583-f555-48b6-b330-b9bdfdd295da",
   "metadata": {},
   "source": [
    "Homer also saves an HTML file where you can navigate through the various categories."
   ]
  },
  {
   "cell_type": "code",
   "execution_count": null,
   "id": "deac4a6f-882c-42eb-acb5-f74712bbec2a",
   "metadata": {},
   "outputs": [],
   "source": [
    "# View the html results.\n",
    "IFrame(src='Tutorial3/GenomeAnnotation/CTL_GO/geneOntology.html', width=900, height=600)"
   ]
  },
  {
   "cell_type": "markdown",
   "id": "c1e519a4-f4b8-4641-b03d-2e8d51ad9e6f",
   "metadata": {},
   "source": [
    "In the above HTML you can click through the different ontology categories to view enriched terms and scores for genes near our differential peaks. Note that there are links to motifs, but these lead to \"pages not found\" because we have yet to do this analysis. We will run motif analysis in the next section using TOBIAS."
   ]
  },
  {
   "cell_type": "markdown",
   "id": "ff448764-630e-4898-8321-19bb6f6d357e",
   "metadata": {},
   "source": [
    "<div class=\"alert-info\" style=\"font-size:200%\">\n",
    "Motif Footprinting\n",
    "</div>\n",
    "\n",
    "### ATAC-seq can be used to identify accessibility at transcription factor (TF) binding sites. We'll use [tobias](https://anaconda.org/bioconda/tobias).\n",
    "\n",
    "<img src=\"Tutorial3/LessonImages/TobiasFigure.jpg\" alt=\"Drawing\" style=\"width: 800px;\"/>\n",
    "\n",
    "From: [Bentsen et al., Nat. Comm. 2020](https://www.nature.com/articles/s41467-020-18035-1)\n",
    "\n",
    "Tn5 insertion during ATAC-seq has a sequence bias. In our first step, let's correct for that bias."
   ]
  },
  {
   "cell_type": "code",
   "execution_count": null,
   "id": "bd4b3b34-2e1a-40f3-9f41-ad0bd6ae20f5",
   "metadata": {},
   "outputs": [],
   "source": [
    "# Index the bam.\n",
    "!samtools index Tutorial3/InputFiles/CTL_dedup.bam\n",
    "!samtools index Tutorial3/InputFiles/Mutant_dedup.bam\n",
    "# Tn5 has an insertion sequence bias, which Tobias can correct for. Let's use the master list of peaks provided by manorm, but we need to first remove the header and extra columns.\n",
    "!cat Tutorial3/DiffPeaks/CTL_vs_Mutant_all_MAvalues.xls | cut -f 1-3 | grep -v start > Tutorial3/MotifFootprinting/MasterPeakList.bed\n",
    "\n",
    "# Now let's do the signal correction.\n",
    "!TOBIAS ATACorrect --bam Tutorial3/InputFiles/CTL_dedup.bam --genome Tutorial3/InputFiles/chr4.fa --peaks Tutorial3/MotifFootprinting/MasterPeakList.bed --outdir Tutorial3/MotifFootprinting --prefix CTL --cores $numthreadsint --verbosity 1\n",
    "# Let's also do this for the mutant.\n",
    "!TOBIAS ATACorrect --bam Tutorial3/InputFiles/Mutant_dedup.bam --genome Tutorial3/InputFiles/chr4.fa --peaks Tutorial3/MotifFootprinting/MasterPeakList.bed --outdir Tutorial3/MotifFootprinting --prefix Mutant --cores $numthreadsint --verbosity 1\n",
    "\n",
    "print(\"done\")"
   ]
  },
  {
   "cell_type": "markdown",
   "id": "21da1001-529f-4e62-8e44-2f475bfd35d4",
   "metadata": {},
   "source": [
    "Now let's use the bias-corrected bigwig files to calculate footprint scores around peaks."
   ]
  },
  {
   "cell_type": "code",
   "execution_count": null,
   "id": "6ca0ae04-b409-4c5d-b318-0887edc0f3c8",
   "metadata": {},
   "outputs": [],
   "source": [
    "!TOBIAS ScoreBigwig -s Tutorial3/MotifFootprinting/CTL_corrected.bw -r Tutorial3/MotifFootprinting/MasterPeakList.bed -o Tutorial3/MotifFootprinting/CTL_footprintscores.bw --cores $numthreadsint --verbosity 1\n",
    "\n",
    "# Let's do the same for our mutant sample.\n",
    "!TOBIAS ScoreBigwig -s Tutorial3/MotifFootprinting/Mutant_corrected.bw -r Tutorial3/MotifFootprinting/MasterPeakList.bed -o Tutorial3/MotifFootprinting/Mutant_footprintscores.bw --cores $numthreadsint --verbosity 1"
   ]
  },
  {
   "cell_type": "markdown",
   "id": "affb7253-ed1b-4b21-8377-47f20f868eab",
   "metadata": {},
   "source": [
    "Now that we have our corrected signal and footprint scores, let's do TF binding site prediction as well as differential footprinting.\n",
    "\n",
    "Caution: this step searches through the signal at every signal location corresponding to motifs in your jaspar file. Here we use all the motifs in the jaspar database. This can take several minutes..."
   ]
  },
  {
   "cell_type": "code",
   "execution_count": null,
   "id": "688f95c8-2649-4f7b-aa91-43ac8f4cd163",
   "metadata": {},
   "outputs": [],
   "source": [
    "# First, we'll download the current jaspar motifs.\n",
    "!wget https://jaspar.genereg.net/download/data/2022/CORE/JASPAR2022_CORE_vertebrates_non-redundant_pfms_jaspar.txt -P Tutorial3/MotifFootprinting/\n",
    "\n",
    "#Downgrade adjusttext otherwise the next command will throw an error\n",
    "!pip install adjusttext==0.7.3\n",
    "\n",
    "# Next we can calculate statistics for each motif represented in our jaspar motif file. If we list both our CTL and Mutant sample, it will calculate the differential footprint score for us as well.\n",
    "!TOBIAS BINDetect --motifs Tutorial3/MotifFootprinting/JASPAR2022_CORE_vertebrates_non-redundant_pfms_jaspar.txt --signals Tutorial3/MotifFootprinting/CTL_footprintscores.bw Tutorial3/MotifFootprinting/Mutant_footprintscores.bw --genome Tutorial3/InputFiles/chr4.fa --peaks Tutorial3/MotifFootprinting/MasterPeakList.bed --outdir Tutorial3/MotifFootprinting/DiffMotifs --cond_names CTL Mutant --cores $numthreadsint --verbosity 1\n",
    "\n",
    "print(\"done\")"
   ]
  },
  {
   "cell_type": "code",
   "execution_count": null,
   "id": "880bab0f-ee58-4f1b-8e62-e1e6e1811809",
   "metadata": {},
   "outputs": [],
   "source": [
    "# View the HTML results.\n",
    "IFrame(src='Tutorial3/MotifFootprinting/DiffMotifs/bindetect_CTL_Mutant.html', width=900, height=600)"
   ]
  },
  {
   "cell_type": "markdown",
   "id": "e5180387-42ea-4d87-b1f2-2d320640af2b",
   "metadata": {},
   "source": [
    "In the above HTML file you can hover over each point to see the motif name and the sequence. This type of plot is a volcano plot showing the differential signal on the x-axis and the significance values on the y-axis.\n",
    "\n",
    "For example, the original paper focused on TP63, which is one of our differential dots in the HTML file. \n",
    "\n",
    "<img src=\"Tutorial3/LessonImages/TP63_volcano.jpg\" alt=\"Drawing\" style=\"width: 500px;\"/>\n",
    "\n",
    "Let's visualize the average footprint at TP63 motifs."
   ]
  },
  {
   "cell_type": "code",
   "execution_count": null,
   "id": "f9683a4e-48ba-426b-91cb-5befa06b1d32",
   "metadata": {},
   "outputs": [],
   "source": [
    "#IFrame(src='Tutorial2/MotifFootprinting/MYBL1_MA0776.1/plots/MYBL1_MA0776.1_log2fcs.pdf', width=900, height=600) \n",
    "\n",
    "# Note change to Tutorial3.\n",
    "#!TOBIAS PlotAggregate --TFBS Tutorial3/MotifFootprinting/DiffMotifs/TP63_MA0525.2/beds/TP63_MA0525.2_all.bed --signals Tutorial3/MotifFootprinting/CTL_corrected.bw Tutorial3/MotifFootprinting/Mutant_corrected.bw --output Tutorial3/MotifFootprinting/TP63_footprint_compare.png --share_y both --verbosity 1 --plot_boundaries --flank 60 --smooth 2\n",
    "!TOBIAS PlotAggregate --TFBS Tutorial3/MotifFootprinting/DiffMotifs/TP63_MA0525.2/beds/TP63_MA0525.2_all.bed --signals Tutorial3/MotifFootprinting/CTL_corrected.bw Tutorial3/MotifFootprinting/Mutant_corrected.bw --output Tutorial3/MotifFootprinting/TP63_footprint_compare.png --share_y both --verbosity 1 --plot_boundaries --flank 60 --smooth 2 --signal-on-x"
   ]
  },
  {
   "cell_type": "code",
   "execution_count": null,
   "id": "ad9b80da-1111-4079-a308-d7cb6ddc2a2d",
   "metadata": {},
   "outputs": [],
   "source": [
    "IFrame(src='Tutorial3/MotifFootprinting/TP63_footprint_compare.png', width=600, height=400) "
   ]
  },
  {
   "cell_type": "markdown",
   "id": "a0b72adc-4b71-4234-9549-6381a56bfb39",
   "metadata": {},
   "source": [
    "We can also get all the motifs that have differential footprints:"
   ]
  },
  {
   "cell_type": "code",
   "execution_count": null,
   "id": "5a06ef84-9a27-4d55-be1d-fed572711daa",
   "metadata": {},
   "outputs": [],
   "source": [
    "# Load the results as a pandas table Tutorial2/MotifFootprinting/bindetect_results.txt.\n",
    "dframe = pd.read_csv(\"Tutorial3/MotifFootprinting/DiffMotifs/bindetect_results.txt\", sep='\\t')\n",
    "display(dframe)\n",
    "DiffMotifs = dframe[dframe['CTL_Mutant_pvalue'] < .05]\n",
    "# Write out to a tab separated file.\n",
    "DiffMotifs.to_csv('Tutorial3/MotifFootprinting/DiffMotifs_p05.txt')"
   ]
  },
  {
   "cell_type": "markdown",
   "id": "12439dc4-b9ad-49fa-9ccb-4383a272bcaf",
   "metadata": {},
   "source": [
    "<div class=\"alert-success\" style=\"font-size:200%\">\n",
    "Great job! \n",
    "</div>\n",
    "Thank you for completing these tutorials. Feel free to download these notebooks, customize, and use them to process your own data. Please see Tutorial 4 for Single-Cell ATAC-seq analysis."
   ]
  },
  {
   "cell_type": "markdown",
   "id": "081ac7da-b725-4766-9d66-72718894cfd1",
   "metadata": {},
   "source": [
    "<div class=\"alert alert-block alert-danger\">\n",
    "    <b>&#128721; Caution:</b> Remember to shut down your VM after you are finished with your work in order to avoid incurring additional charges.\n",
    "</div>"
   ]
  },
  {
   "cell_type": "code",
   "execution_count": null,
   "id": "8c9bc322-6a61-4ce6-ac79-eeeaa2527fd1",
   "metadata": {},
   "outputs": [],
   "source": []
  }
 ],
 "metadata": {},
 "nbformat": 4,
 "nbformat_minor": 5
}
