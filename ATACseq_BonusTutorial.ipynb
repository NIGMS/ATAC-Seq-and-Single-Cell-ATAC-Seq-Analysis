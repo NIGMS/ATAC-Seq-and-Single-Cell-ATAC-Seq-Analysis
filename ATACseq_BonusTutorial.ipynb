{
 "cells": [
  {
   "cell_type": "markdown",
   "id": "ad3494e2-09a4-4688-9377-648fe84722e4",
   "metadata": {},
   "source": [
    "# ATAC-seq Bonus Submodule: Tutorial 1 with custom data\n",
    "\n",
    "<img src=\"./Tutorial1/LessonImages/ATACseqWorkflowLesson1.jpg\" alt=\"Drawing\" style=\"width: 1000px;\"/>\n",
    "\n",
    "## Overview & Purpose\n",
    "In this notebook, we are going to explore how to run this module with a new dataset. These submodules provide a great framework for running a rigorous and scalable ATAC-Seq analysis, but there are some considerations that must be made in order to run this with your own data. We will walk through that process here so that hopefully, you are able to take these notebooks to your research group and use them for your own analysis. Notice that we do not give you all the answers in the code blocks, but if you get stuck, use the dropdowns for help."
   ]
  },
  {
   "cell_type": "markdown",
   "id": "63fc2106-27ba-4bd5-9cc6-9aed1024d615",
   "metadata": {},
   "source": [
    "<div class=\"alert-info\" style=\"font-size:200%\">\n",
    "STEP 1: Set Up Environment\n",
    "</div>\n"
   ]
  },
  {
   "cell_type": "code",
   "execution_count": null,
   "id": "79377125-147a-458e-ba42-3aa9ed6693dd",
   "metadata": {
    "scrolled": true,
    "tags": []
   },
   "outputs": [],
   "source": [
    "!curl -L -O https://github.com/conda-forge/miniforge/releases/latest/download/Mambaforge-$(uname)-$(uname -m).sh\n",
    "!bash Mambaforge-$(uname)-$(uname -m).sh -b -p $HOME/mambaforge"
   ]
  },
  {
   "cell_type": "code",
   "execution_count": null,
   "id": "31a3898e-8f0f-4fc7-9ec0-5f9fb470addd",
   "metadata": {},
   "outputs": [],
   "source": [
    "# add mamba to your path\n",
    "import os\n",
    "os.environ[\"PATH\"] += os.pathsep + os.environ[\"HOME\"]+\"/mambaforge/bin\""
   ]
  },
  {
   "cell_type": "code",
   "execution_count": null,
   "id": "9b87bee4-7276-4c30-ac84-3b6f4af9e0ef",
   "metadata": {
    "scrolled": true,
    "tags": []
   },
   "outputs": [],
   "source": [
    "# install dependencies\n",
    "numthreads=!lscpu | grep '^CPU(s)'| awk '{print $2-1}'\n",
    "numthreadsint = int(numthreads[0])\n",
    "! mamba install -c bioconda fastqc bowtie2 picard multiqc samtools trimmomatic  -y\n",
    "! pip install jupyterquiz==2.0.7 jupytercards jupyter-book>=0.14"
   ]
  },
  {
   "cell_type": "code",
   "execution_count": null,
   "id": "80a10943-42b7-4871-819f-cbcc65b2a8ec",
   "metadata": {},
   "outputs": [],
   "source": [
    "from jupyterquiz import display_quiz\n",
    "from IPython.display import IFrame\n",
    "from IPython.display import display\n",
    "from jupytercards import display_flashcards\n",
    "import pandas as pd"
   ]
  },
  {
   "cell_type": "markdown",
   "id": "38ae2a63-1f7d-49ec-a919-c5954e906537",
   "metadata": {},
   "source": [
    "<div class=\"alert-info\" style=\"font-size:200%\">\n",
    "STEP 2: Get new fastq data\n",
    "</div>"
   ]
  },
  {
   "cell_type": "markdown",
   "id": "341b0313-dbb9-4f0b-b6db-11f02ffe15ac",
   "metadata": {},
   "source": [
    "We are going to pull a new dataset from SRA. In this example, we are going to use data from an experiment that compared cis-regulatory elements across tissues in zebrafish. The BioProject ID is [PRJNA553572](https://www.ncbi.nlm.nih.gov/bioproject/PRJNA553572). There are over 200 samples in this experiment, but for simplicity, we are only going to use one liver sample and one muscle sample. The accession numbers for these samples are SRR12173474 and SRR12173476. To learn how to pull data from SRA, we recommend you consult the [STRIDES tutorial on SRA downloads](https://github.com/STRIDES/NIHCloudLabGCP/blob/main/tutorials/notebooks/SRADownload/SRA-Download.ipynb). For this situation, we have already pulled the data from SRA and have it in our storage bucket, so we will copy it to our directory."
   ]
  },
  {
   "cell_type": "code",
   "execution_count": null,
   "id": "d0aa900e-e4b3-4239-b4d1-897c3977e071",
   "metadata": {
    "tags": []
   },
   "outputs": [],
   "source": [
    "# These commands create our directory structure.\n",
    "! mkdir -p Tutorial1/InputFiles\n",
    "! mkdir -p Tutorial1/QC\n",
    "! mkdir -p Tutorial1/Trimmed\n",
    "! mkdir -p Tutorial1/Mapped\n",
    "! mkdir -p Tutorial1/RefGenome\n",
    "\n",
    "# These commands help identify the Google Cloud Storage bucket where the example files are held.\n",
    "original_bucket = \"gs://nigms-sandbox/unmc_atac_data_examples/Tutorial1\""
   ]
  },
  {
   "cell_type": "markdown",
   "id": "36f7bccb-eb4a-41ad-883e-4a11f44820c2",
   "metadata": {},
   "source": [
    "Now copy the input data from the Cloud Storage Bucket to your local Tutorial1/InputFiles directory.\n",
    "The original fastq files were very large, so here we are using down-sampled versions that contain 10% of the original dataset."
   ]
  },
  {
   "cell_type": "code",
   "execution_count": null,
   "id": "06e5175f-514f-43e6-91ac-a3dbf955f1a7",
   "metadata": {},
   "outputs": [],
   "source": [
    "! <YOUR COMMAND HERE>"
   ]
  },
  {
   "cell_type": "markdown",
   "id": "6113d532-c940-4725-9327-73709bb766ba",
   "metadata": {},
   "source": [
    "<details>\n",
    "  <summary>Click for help</summary>\n",
    "    \n",
    "  Make sure you include the `!` in front of your command! \n",
    "    \n",
    "  \n",
    "`gsutil -m cp $original_bucket/InputFiles/Liver* Tutorial1/InputFiles/`  \n",
    "`gsutil -m cp $original_bucket/InputFiles/Muscle* Tutorial1/InputFiles/`\n",
    "  \n",
    "\n",
    "</details>\n"
   ]
  },
  {
   "cell_type": "markdown",
   "id": "a9945799-12e6-4f01-a156-ef7b27cd7874",
   "metadata": {},
   "source": [
    "Now copy the reference genome from the Cloud Storage Bucket to your local Tutorial1/RefGenome directory\n"
   ]
  },
  {
   "cell_type": "code",
   "execution_count": null,
   "id": "a7468826-ba85-40d2-ba3c-e023ef1c2fcc",
   "metadata": {},
   "outputs": [],
   "source": [
    "! <YOUR COMMAND HERE>"
   ]
  },
  {
   "cell_type": "markdown",
   "id": "880018d4-49f4-4fa6-a5bf-56c390aa8939",
   "metadata": {},
   "source": [
    "<details>\n",
    "  <summary>Click for help</summary>\n",
    "    \n",
    "    \n",
    "`gsutil -m cp $original_bucket/RefGenome/* Tutorial1/RefGenome`\n",
    "\n",
    "</details>\n"
   ]
  },
  {
   "cell_type": "code",
   "execution_count": null,
   "id": "bece6ccb-e7cd-4dbe-a37b-d19fe4ddc38f",
   "metadata": {},
   "outputs": [],
   "source": [
    "! gsutil -m cp $original_bucket/RefGenome/* Tutorial1/RefGenome\n"
   ]
  },
  {
   "cell_type": "markdown",
   "id": "198a6725-8d17-42d3-9b83-99f166fd369b",
   "metadata": {},
   "source": [
    "<div class=\"alert-info\" style=\"font-size:200%\">\n",
    "STEP 3: QC\n",
    "</div>\n"
   ]
  },
  {
   "cell_type": "markdown",
   "id": "f81f91cb-944a-43ae-b15c-25fc08b164e9",
   "metadata": {},
   "source": [
    "Now run fastqc on your data. You can use the the wildcard \\*.fastq.gz to find the files like this: Tutorial1/InputFiles/*fastq.gz"
   ]
  },
  {
   "cell_type": "code",
   "execution_count": null,
   "id": "a83bd911-d188-46a9-82a2-a4e09d78fa8b",
   "metadata": {},
   "outputs": [],
   "source": [
    "# This command runs fastqc on each fastq.gz file inside our InputFiles directory and stores the ouput reports in our QC directory.\n",
    "! <YOUR COMMAND HERE>"
   ]
  },
  {
   "cell_type": "markdown",
   "id": "b04976ca-829c-4936-bc85-b5ac80c9f86a",
   "metadata": {},
   "source": [
    "<details>\n",
    "  <summary>Click for help</summary>\n",
    "    \n",
    "\n",
    "  `fastqc -t $numthreadsint -q -o Tutorial1/QC Tutorial1/InputFiles/*fastq.gz`\n",
    "\n",
    "\n",
    "</details>\n"
   ]
  },
  {
   "cell_type": "markdown",
   "id": "484c2cd7-7756-4894-8ff5-290beaf5a40c",
   "metadata": {},
   "source": [
    "We then use multiqc to summarize the report."
   ]
  },
  {
   "cell_type": "code",
   "execution_count": null,
   "id": "772ae4f1-e10b-4e93-8bfa-d0d38b1857c8",
   "metadata": {},
   "outputs": [],
   "source": [
    "! <YOUR COMMAND HERE>"
   ]
  },
  {
   "cell_type": "markdown",
   "id": "ea287189-5f7e-4f47-ac62-65e15c00b0c8",
   "metadata": {},
   "source": [
    "<details>\n",
    "  <summary>Click for help</summary>\n",
    "    \n",
    "\n",
    "  `multiqc -o Tutorial1/QC -f Tutorial1/QC 2> Tutorial1/QC/multiqc_log.txt`\n",
    "\n",
    "</details>\n"
   ]
  },
  {
   "cell_type": "markdown",
   "id": "2cc5fe12-e427-4e26-8fe6-0d1a680f63e5",
   "metadata": {},
   "source": [
    "We'll load the outputs into a pandas data frame , but fastqc also produces an html report that you can browse.\n"
   ]
  },
  {
   "cell_type": "code",
   "execution_count": null,
   "id": "4adf02a7-184c-4aa4-b8d5-9d8e664a3027",
   "metadata": {},
   "outputs": [],
   "source": [
    "<YOUR COMMAND HERE>"
   ]
  },
  {
   "cell_type": "markdown",
   "id": "65725ddf-f72f-4903-9ad2-b1370f3434b4",
   "metadata": {},
   "source": [
    "<details>\n",
    "  <summary>Click for help</summary>\n",
    "    \n",
    "  This is a python command, so we don't use a `!` at the start.   \n",
    "  `dframe = pd.read_csv(\"Tutorial1/QC/multiqc_data/multiqc_fastqc.txt\", sep='\\t')`  \n",
    "  `display(dframe)`\n",
    "\n",
    "</details>\n"
   ]
  },
  {
   "cell_type": "markdown",
   "id": "1ff9f6fa-f59f-4ed4-b5ec-ea10935bcdbe",
   "metadata": {},
   "source": [
    "As we come to the trimming step, we need to make some changes. As written, the notebook calls CTL and MUTANT, but our new samples are named Liver and Muslce. We will change the command to Liver and Muscle respectively. Try it out in the cell below."
   ]
  },
  {
   "cell_type": "code",
   "execution_count": null,
   "id": "ad308d6a-6016-45f4-86c6-1251799737cb",
   "metadata": {},
   "outputs": [],
   "source": [
    "! <YOUR COMMAND HERE> "
   ]
  },
  {
   "cell_type": "markdown",
   "id": "db24736d-be5b-465a-909d-b697a8cd5dfc",
   "metadata": {},
   "source": [
    "<details>\n",
    "  <summary>Click for help</summary>\n",
    "    \n",
    "\n",
    "`trimmomatic PE -threads $numthreadsint Tutorial1/InputFiles/Liver_sub_1.fastq.gz Tutorial1/InputFiles/Liver_sub_2.fastq.gz Tutorial1/Trimmed/Liver_trimmed_R1.fastq.gz Tutorial1/Trimmed/Liver_unpaired_R1.fastq.gz Tutorial1/Trimmed/Liver_trimmed_R2.fastq.gz Tutorial1/Trimmed/Liver_unpaired_R2.fastq.gz ILLUMINACLIP:Tutorial1/RefGenome/NexteraPE.fa:2:30:10 LEADING:3 TRAILING:3`\n",
    "\n",
    "</details>\n"
   ]
  },
  {
   "cell_type": "code",
   "execution_count": null,
   "id": "1c201365-8b56-4bb4-a443-c2d2ca2edcdc",
   "metadata": {},
   "outputs": [],
   "source": [
    "! <YOUR COMMAND HERE >"
   ]
  },
  {
   "cell_type": "markdown",
   "id": "620a1074-ca9d-4e07-a88b-26a5d1a19150",
   "metadata": {},
   "source": [
    "<details>\n",
    "  <summary>Click for help</summary>\n",
    "    \n",
    "  \n",
    "`trimmomatic PE -threads $numthreadsint Tutorial1/InputFiles/Muscle_sub_1.fastq.gz Tutorial1/InputFiles/Muscle_sub_2.fastq.gz Tutorial1/Trimmed/Muscle_trimmed_R1.fastq.gz Tutorial1/Trimmed/Muscle_unpaired_R1.fastq.gz Tutorial1/Trimmed/Muscle_trimmed_R2.fastq.gz Tutorial1/Trimmed/Muscle_unpaired_R2.fastq.gz ILLUMINACLIP:Tutorial1/RefGenome/NexteraPE.fa:2:30:10 LEADING:3 TRAILING:3`\n",
    "\n",
    "</details>\n"
   ]
  },
  {
   "cell_type": "markdown",
   "id": "be1f4abe-c217-46bf-b41d-0284efe57c9c",
   "metadata": {},
   "source": [
    "The summary step can proceed as normal"
   ]
  },
  {
   "cell_type": "code",
   "execution_count": null,
   "id": "c609df56-f654-4fed-9683-e7c912813571",
   "metadata": {},
   "outputs": [],
   "source": [
    "! <YOUR COMMAND HERE >"
   ]
  },
  {
   "cell_type": "markdown",
   "id": "623ed433-36e9-4c52-b264-023830f49c02",
   "metadata": {
    "tags": []
   },
   "source": [
    "<details>\n",
    "  <summary>Click for help</summary>\n",
    "    \n",
    "   \n",
    "  `fastqc -t $numthreadsint -q -o Tutorial1/Trimmed Tutorial1/Trimmed/*fastq.gz`  \n",
    "  `multiqc -o Tutorial1/QC -f Tutorial1/Trimmed 2> Tutorial1/QC/multiqc_log.txt`  \n",
    "  `dframe = pd.read_csv(\"Tutorial1/QC/multiqc_data/multiqc_general_stats.txt\", sep='\\t')`  \n",
    "  `display(dframe)`  \n",
    "  \n",
    "</details>"
   ]
  },
  {
   "cell_type": "markdown",
   "id": "19c0ee9a-c08b-4530-a319-25e609464b1a",
   "metadata": {},
   "source": [
    "<div class=\"alert-info\" style=\"font-size:200%\">\n",
    "STEP 4: Mapping\n",
    "</div>\n"
   ]
  },
  {
   "cell_type": "markdown",
   "id": "fb82294e-dad4-47f8-b44e-11d089d3d53d",
   "metadata": {},
   "source": [
    "The most important change we need to make in the mapping step is the reference genome. Our original notebook was based on human sequences, but our new dataset is comprised of zebrafish sequences. We will use the GRCz11 reference genome. We have already stored it in our storage bucket, but you can easily get bowtie2 reference genomes for several common organisms [here](https://benlangmead.github.io/aws-indexes/bowtie). Simply put the .bt2 files in your reference genome directory. We can confirm that we have downloaded them in the cell below."
   ]
  },
  {
   "cell_type": "code",
   "execution_count": null,
   "id": "a929031c-5489-4ad0-9db7-03e5b965acb4",
   "metadata": {
    "tags": []
   },
   "outputs": [],
   "source": [
    "!ls Tutorial1/RefGenome/*bt2"
   ]
  },
  {
   "cell_type": "markdown",
   "id": "a402b428-879e-4546-8e60-572c8bc3ed40",
   "metadata": {},
   "source": [
    "Next we will run the bowtie2 mapping step using the GRCz11 .bt2 reference files. As with above, we need to make the appropriate changes from CTL and MUTANT to our tissues."
   ]
  },
  {
   "cell_type": "code",
   "execution_count": null,
   "id": "d1bbc9b2-5459-4d2c-8863-7db0426f0ce6",
   "metadata": {},
   "outputs": [],
   "source": [
    "! <YOUR COMMAND HERE>"
   ]
  },
  {
   "cell_type": "markdown",
   "id": "2462a312-87d5-4f3b-ba43-8463e69d8824",
   "metadata": {},
   "source": [
    "<details>\n",
    "  <summary>Click for help</summary>\n",
    "    \n",
    "\n",
    "  `bowtie2 -p $numthreadsint -x Tutorial1/RefGenome/GRCz11 -1 Tutorial1/Trimmed/Liver_trimmed_R1.fastq.gz -2 Tutorial1/Trimmed/Liver_trimmed_R2.fastq.gz -S Tutorial1/Mapped/Liver.sam`\n",
    "\n",
    "</details>\n"
   ]
  },
  {
   "cell_type": "markdown",
   "id": "88b4eac5-fb9b-48e2-816e-09d56580658a",
   "metadata": {},
   "source": [
    "Do the same thing for the Muscle sample. Based on the command above, make the necessary changes to the bowtie2 command to run on Muscle samples rather than Liver."
   ]
  },
  {
   "cell_type": "code",
   "execution_count": null,
   "id": "4231b932-0e9d-499c-aa2f-9489aa99ea25",
   "metadata": {},
   "outputs": [],
   "source": [
    "! <YOUR COMMAND HERE>"
   ]
  },
  {
   "cell_type": "markdown",
   "id": "ada48bc8-6cb1-42dc-9a2c-d5ebad131495",
   "metadata": {},
   "source": [
    "In the next commands we'll convert the file to the more compressed [bam format](https://genome.ucsc.edu/goldenPath/help/bam.html) and sort the reads by chromosomal coordinates. Again, we change the samples to match Liver and Muscle."
   ]
  },
  {
   "cell_type": "code",
   "execution_count": null,
   "id": "ebcd0c0e-8f72-4989-985a-66deba79e8bb",
   "metadata": {},
   "outputs": [],
   "source": [
    "! <YOUR COMMAND HERE>"
   ]
  },
  {
   "cell_type": "markdown",
   "id": "236228c1-18e2-4992-ba07-b236709a5541",
   "metadata": {},
   "source": [
    "<details>\n",
    "  <summary>Click for help</summary>\n",
    "    \n",
    "\n",
    "  `samtools view -q 10 -bhS Tutorial1/Mapped/Liver.sam | samtools sort -o Tutorial1/Mapped/Liver.bam -`  \n",
    "  `print(\"done\")`\n",
    "\n",
    "</details>\n"
   ]
  },
  {
   "cell_type": "markdown",
   "id": "20757034-18a5-44a2-ae57-5644683dbe85",
   "metadata": {},
   "source": [
    "Now do the same thing for Muscle using the Liver command above as a guide."
   ]
  },
  {
   "cell_type": "code",
   "execution_count": null,
   "id": "fab492ae-573f-423d-b24c-d8eb30352048",
   "metadata": {},
   "outputs": [],
   "source": [
    "! <YOUR COMMAND HERE>"
   ]
  },
  {
   "cell_type": "markdown",
   "id": "5e9b818b-c566-4e63-b30c-9f7a21c0925a",
   "metadata": {},
   "source": [
    "<div class=\"alert-info\" style=\"font-size:200%\">\n",
    "STEP 5: Removal of Duplicates\n",
    "</div>"
   ]
  },
  {
   "cell_type": "markdown",
   "id": "717d1981-f2e2-4d1a-b93c-b91ebed476eb",
   "metadata": {},
   "source": [
    "As with most of the other steps here, the duplicate removal step can be updated for the new data by changing the sample names in the input files. We leave this step as an exercise for the user. Feel free to have a look at the Tutorial1 for a template for the picard MarkDuplicates command."
   ]
  },
  {
   "cell_type": "code",
   "execution_count": null,
   "id": "40715919-f903-4e29-9067-91b976f66a3d",
   "metadata": {},
   "outputs": [],
   "source": [
    "! <YOUR COMMAND HERE>"
   ]
  },
  {
   "cell_type": "code",
   "execution_count": null,
   "id": "98002e8f-b8e3-46f5-9b82-a5176faaead7",
   "metadata": {},
   "outputs": [],
   "source": [
    "! <YOUR COMMAND HERE>"
   ]
  },
  {
   "cell_type": "markdown",
   "id": "a4d0db53-4d3e-48b2-985b-65f9fa8219a5",
   "metadata": {},
   "source": [
    "The last step is the same. We can look at the metrics the same way regardless of the samples used above."
   ]
  },
  {
   "cell_type": "code",
   "execution_count": null,
   "id": "d0c9d7e8-d2c8-4074-bcc9-9b7bde4d10c3",
   "metadata": {},
   "outputs": [],
   "source": [
    "# We can use multiqc to summarize the metrics.\n",
    "!multiqc -o Tutorial1/QC -f Tutorial1/Mapped 2> Tutorial1/Mapped/multiqc_log.txt\n",
    "dframe = pd.read_csv(\"Tutorial1/QC/multiqc_data/multiqc_general_stats.txt\", sep='\\t')\n",
    "display(dframe)"
   ]
  },
  {
   "cell_type": "markdown",
   "id": "25611c48-0c6a-4117-9229-5324933b47de",
   "metadata": {},
   "source": [
    "<div class=\"alert-success\" style=\"font-size:200%\">\n",
    "Great job! \n",
    "</div>\n",
    "\n",
    "That wraps up the preprocessing notebook on our new dataset. Overall, it is usually a matter of changing the commands to match the new filenames from the new data. Using this notebook as a guide, try to think through how you could update the others to run on the Liver and Muscle samples. \n",
    "\n",
    "Using the subsampled datasets, this tutorial should complete in about 10 minutes of runtime using the n1-standard-4 machine recommended by the module README file. Feel free to adjust the machine type and see how the runtime of different steps vary with more memory and compute resources. If you want to run the full dataset without subsampling, it would take a couple of hours using a n1-standard-64 machine.\n",
    "\n",
    "If you want to continue to adapt this for real-world data, you could also try to modify the notebooks to run on multiple samples. Currently, they rely on one case and one control sample, but in a real sequencing run you would likely have several samples of each. How could you modify the code here to handle that type of situation?"
   ]
  },
  {
   "cell_type": "code",
   "execution_count": null,
   "id": "7519e291-f42f-4f05-96d8-9241711a7faf",
   "metadata": {},
   "outputs": [],
   "source": []
  }
 ],
 "metadata": {
  "environment": {
   "kernel": "python3",
   "name": "common-cpu.m114",
   "type": "gcloud",
   "uri": "gcr.io/deeplearning-platform-release/base-cpu:m114"
  },
  "kernelspec": {
   "display_name": "Python 3 (Local)",
   "language": "python",
   "name": "python3"
  },
  "language_info": {
   "codemirror_mode": {
    "name": "ipython",
    "version": 3
   },
   "file_extension": ".py",
   "mimetype": "text/x-python",
   "name": "python",
   "nbconvert_exporter": "python",
   "pygments_lexer": "ipython3",
   "version": "3.10.13"
  }
 },
 "nbformat": 4,
 "nbformat_minor": 5
}
